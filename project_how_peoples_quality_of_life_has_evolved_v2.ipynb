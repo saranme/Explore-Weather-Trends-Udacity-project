{
 "cells": [
  {
   "cell_type": "markdown",
   "metadata": {},
   "source": [
    "# Project: How people's quality of life has evolved\n",
    "\n",
    "## Table of Contents\n",
    "<ul>\n",
    "<li><a href=\"#intro\">Introduction</a></li>\n",
    "<li><a href=\"#wrangling\">Data Wrangling</a></li>\n",
    "<li><a href=\"#eda\">Exploratory Data Analysis</a></li>\n",
    "<li><a href=\"#conclusions\">Conclusions</a></li>\n",
    "</ul>"
   ]
  },
  {
   "cell_type": "markdown",
   "metadata": {},
   "source": [
    "<a id='intro'></a>\n",
    "## Introduction\n",
    "\n",
    "> Investigation of the Gapminder World dataset and **analysis of the evolution of people’s quality of life from the 90s to 2015 through the indicators of Human Development, Gross National Income per capita and female labor participation**.\n",
    ">\n",
    ">The **Human Development Index (HDI)** indicator is an index used to rank countries by level of human development. It contains three dimensions: health level, educational level and living standard.\n",
    ">\n",
    ">The **Gross National Income (GNI)** per capita indicator is in US dollars and is converted using the World Bank Atlas method. Is the gross national income divided by mid-year population.\n",
    ">\n",
    ">The **Labour force participation rate (%) for females** aged 15-64 indicator is the percentage of female labour to total female population.\n",
    ">\n",
    ">\n",
    "> With these indicators, we will explore how HDI has evolved over time and whether there has been a decrease in human development in some countries.\n",
    "We will analyze if there is a correlation between the Human Development Index and the Gross National Income per capita. In this way, it will be possible to see if the national income is invested in health, education and other human development outcomes.\n",
    ">\n",
    ">As for the GNI per capita, we wonder how it differs between continents and countries belonging to the same continent. If there is a difference in income between countries on the same continent, is there also a difference in human development between them? Do the continents have great economic inequalities?\n",
    ">\n",
    ">Finally, we want to know if there is a greater female workforce as a result of greater human development and if the female workforce is a global fact."
   ]
  },
  {
   "cell_type": "code",
   "execution_count": 1,
   "metadata": {},
   "outputs": [],
   "source": [
    "# We import statements for all of the packages\n",
    "import pandas as pd\n",
    "import numpy as np\n",
    "%matplotlib inline\n",
    "import matplotlib.pyplot as plt\n",
    "import seaborn as sns"
   ]
  },
  {
   "cell_type": "markdown",
   "metadata": {},
   "source": [
    "<a id='wrangling'></a>\n",
    "## Data Wrangling and Data Cleaning\n",
    "\n",
    "### General Properties"
   ]
  },
  {
   "cell_type": "code",
   "execution_count": 2,
   "metadata": {},
   "outputs": [
    {
     "data": {
      "text/html": [
       "<div>\n",
       "<style scoped>\n",
       "    .dataframe tbody tr th:only-of-type {\n",
       "        vertical-align: middle;\n",
       "    }\n",
       "\n",
       "    .dataframe tbody tr th {\n",
       "        vertical-align: top;\n",
       "    }\n",
       "\n",
       "    .dataframe thead th {\n",
       "        text-align: right;\n",
       "    }\n",
       "</style>\n",
       "<table border=\"1\" class=\"dataframe\">\n",
       "  <thead>\n",
       "    <tr style=\"text-align: right;\">\n",
       "      <th></th>\n",
       "      <th>country</th>\n",
       "      <th>Continent</th>\n",
       "      <th>1990</th>\n",
       "      <th>1991</th>\n",
       "      <th>1992</th>\n",
       "      <th>1993</th>\n",
       "      <th>1994</th>\n",
       "      <th>1995</th>\n",
       "      <th>1996</th>\n",
       "      <th>1997</th>\n",
       "      <th>...</th>\n",
       "      <th>2006</th>\n",
       "      <th>2007</th>\n",
       "      <th>2008</th>\n",
       "      <th>2009</th>\n",
       "      <th>2010</th>\n",
       "      <th>2011</th>\n",
       "      <th>2012</th>\n",
       "      <th>2013</th>\n",
       "      <th>2014</th>\n",
       "      <th>2015</th>\n",
       "    </tr>\n",
       "  </thead>\n",
       "  <tbody>\n",
       "    <tr>\n",
       "      <td>0</td>\n",
       "      <td>Afghanistan</td>\n",
       "      <td>AS</td>\n",
       "      <td>0.295</td>\n",
       "      <td>0.300</td>\n",
       "      <td>0.309</td>\n",
       "      <td>0.305</td>\n",
       "      <td>0.300</td>\n",
       "      <td>0.324</td>\n",
       "      <td>0.328</td>\n",
       "      <td>0.332</td>\n",
       "      <td>...</td>\n",
       "      <td>0.415</td>\n",
       "      <td>0.433</td>\n",
       "      <td>0.434</td>\n",
       "      <td>0.448</td>\n",
       "      <td>0.454</td>\n",
       "      <td>0.463</td>\n",
       "      <td>0.470</td>\n",
       "      <td>0.476</td>\n",
       "      <td>0.479</td>\n",
       "      <td>0.479</td>\n",
       "    </tr>\n",
       "    <tr>\n",
       "      <td>1</td>\n",
       "      <td>Albania</td>\n",
       "      <td>EU</td>\n",
       "      <td>0.635</td>\n",
       "      <td>0.618</td>\n",
       "      <td>0.603</td>\n",
       "      <td>0.608</td>\n",
       "      <td>0.616</td>\n",
       "      <td>0.628</td>\n",
       "      <td>0.637</td>\n",
       "      <td>0.636</td>\n",
       "      <td>...</td>\n",
       "      <td>0.703</td>\n",
       "      <td>0.713</td>\n",
       "      <td>0.721</td>\n",
       "      <td>0.725</td>\n",
       "      <td>0.738</td>\n",
       "      <td>0.752</td>\n",
       "      <td>0.759</td>\n",
       "      <td>0.761</td>\n",
       "      <td>0.762</td>\n",
       "      <td>0.764</td>\n",
       "    </tr>\n",
       "    <tr>\n",
       "      <td>2</td>\n",
       "      <td>Algeria</td>\n",
       "      <td>AF</td>\n",
       "      <td>0.577</td>\n",
       "      <td>0.581</td>\n",
       "      <td>0.587</td>\n",
       "      <td>0.591</td>\n",
       "      <td>0.595</td>\n",
       "      <td>0.600</td>\n",
       "      <td>0.609</td>\n",
       "      <td>0.617</td>\n",
       "      <td>...</td>\n",
       "      <td>0.690</td>\n",
       "      <td>0.697</td>\n",
       "      <td>0.705</td>\n",
       "      <td>0.714</td>\n",
       "      <td>0.724</td>\n",
       "      <td>0.732</td>\n",
       "      <td>0.737</td>\n",
       "      <td>0.741</td>\n",
       "      <td>0.743</td>\n",
       "      <td>0.745</td>\n",
       "    </tr>\n",
       "  </tbody>\n",
       "</table>\n",
       "<p>3 rows × 28 columns</p>\n",
       "</div>"
      ],
      "text/plain": [
       "       country Continent   1990   1991   1992   1993   1994   1995   1996  \\\n",
       "0  Afghanistan        AS  0.295  0.300  0.309  0.305  0.300  0.324  0.328   \n",
       "1      Albania        EU  0.635  0.618  0.603  0.608  0.616  0.628  0.637   \n",
       "2      Algeria        AF  0.577  0.581  0.587  0.591  0.595  0.600  0.609   \n",
       "\n",
       "    1997  ...   2006   2007   2008   2009   2010   2011   2012   2013   2014  \\\n",
       "0  0.332  ...  0.415  0.433  0.434  0.448  0.454  0.463  0.470  0.476  0.479   \n",
       "1  0.636  ...  0.703  0.713  0.721  0.725  0.738  0.752  0.759  0.761  0.762   \n",
       "2  0.617  ...  0.690  0.697  0.705  0.714  0.724  0.732  0.737  0.741  0.743   \n",
       "\n",
       "    2015  \n",
       "0  0.479  \n",
       "1  0.764  \n",
       "2  0.745  \n",
       "\n",
       "[3 rows x 28 columns]"
      ]
     },
     "execution_count": 2,
     "metadata": {},
     "output_type": "execute_result"
    }
   ],
   "source": [
    "# We load data and we inspect it.\n",
    "hdi = pd.read_csv('hdi_human_development_index.csv')\n",
    "continent_list = pd.read_csv('countries_list.csv')\n",
    "hdi = continent_list.merge(hdi, left_on='country', right_on='country', how='inner')\n",
    "hdi.to_csv('continents_hdi.csv', index=False)\n",
    "gni = pd.read_csv('gnipercapita_atlasmethod_current_us.csv')\n",
    "fem = pd.read_csv('females_aged_15_64_labour_force_participation_rate_percent.csv')\n",
    "\n",
    "# Human Development Index (HDI) data\n",
    "hdi.head(3)"
   ]
  },
  {
   "cell_type": "code",
   "execution_count": 3,
   "metadata": {},
   "outputs": [
    {
     "data": {
      "text/plain": [
       "array([[<matplotlib.axes._subplots.AxesSubplot object at 0x1a1ad64910>,\n",
       "        <matplotlib.axes._subplots.AxesSubplot object at 0x1a1ae3ffd0>],\n",
       "       [<matplotlib.axes._subplots.AxesSubplot object at 0x1074f8810>,\n",
       "        <matplotlib.axes._subplots.AxesSubplot object at 0x10752bf90>]],\n",
       "      dtype=object)"
      ]
     },
     "execution_count": 3,
     "metadata": {},
     "output_type": "execute_result"
    },
    {
     "data": {
      "image/png": "[encoded data removed]",
      "text/plain": [
       "<Figure size 432x288 with 4 Axes>"
      ]
     },
     "metadata": {
      "needs_background": "light"
     },
     "output_type": "display_data"
    }
   ],
   "source": [
    "# HDI Histograms,\n",
    "# Identifying outliers.\n",
    "hdi.hist(['1990','1995','2000','2015'], color=['#89C7E7'], alpha=.8)"
   ]
  },
  {
   "cell_type": "markdown",
   "metadata": {},
   "source": [
    "With these visualizations we can observe that, over the years, the Human Development indices that occur the most in the countries are between 0.6 and 0.8. In the 90s, the indices between 0.3 and 0.5 are the least common among countries. In the 2000s we see how the indices of more than 0.7 have occurred in many more countries since the beginning of this decade. There is also a rise in the lowest HDI in the countries in these 25 years, although they are still the biggest outliers."
   ]
  },
  {
   "cell_type": "code",
   "execution_count": 4,
   "metadata": {},
   "outputs": [
    {
     "data": {
      "text/html": [
       "<div>\n",
       "<style scoped>\n",
       "    .dataframe tbody tr th:only-of-type {\n",
       "        vertical-align: middle;\n",
       "    }\n",
       "\n",
       "    .dataframe tbody tr th {\n",
       "        vertical-align: top;\n",
       "    }\n",
       "\n",
       "    .dataframe thead th {\n",
       "        text-align: right;\n",
       "    }\n",
       "</style>\n",
       "<table border=\"1\" class=\"dataframe\">\n",
       "  <thead>\n",
       "    <tr style=\"text-align: right;\">\n",
       "      <th></th>\n",
       "      <th>country</th>\n",
       "      <th>1962</th>\n",
       "      <th>1963</th>\n",
       "      <th>1964</th>\n",
       "      <th>1965</th>\n",
       "      <th>1966</th>\n",
       "      <th>1967</th>\n",
       "      <th>1968</th>\n",
       "      <th>1969</th>\n",
       "      <th>1970</th>\n",
       "      <th>...</th>\n",
       "      <th>2008</th>\n",
       "      <th>2009</th>\n",
       "      <th>2010</th>\n",
       "      <th>2011</th>\n",
       "      <th>2012</th>\n",
       "      <th>2013</th>\n",
       "      <th>2014</th>\n",
       "      <th>2015</th>\n",
       "      <th>2016</th>\n",
       "      <th>2017</th>\n",
       "    </tr>\n",
       "  </thead>\n",
       "  <tbody>\n",
       "    <tr>\n",
       "      <td>0</td>\n",
       "      <td>Afghanistan</td>\n",
       "      <td>NaN</td>\n",
       "      <td>NaN</td>\n",
       "      <td>NaN</td>\n",
       "      <td>NaN</td>\n",
       "      <td>NaN</td>\n",
       "      <td>NaN</td>\n",
       "      <td>NaN</td>\n",
       "      <td>NaN</td>\n",
       "      <td>NaN</td>\n",
       "      <td>...</td>\n",
       "      <td>360.0</td>\n",
       "      <td>460.0</td>\n",
       "      <td>500.0</td>\n",
       "      <td>560.0</td>\n",
       "      <td>670.0</td>\n",
       "      <td>680.0</td>\n",
       "      <td>650.0</td>\n",
       "      <td>600.0</td>\n",
       "      <td>580.0</td>\n",
       "      <td>570.0</td>\n",
       "    </tr>\n",
       "    <tr>\n",
       "      <td>1</td>\n",
       "      <td>Albania</td>\n",
       "      <td>NaN</td>\n",
       "      <td>NaN</td>\n",
       "      <td>NaN</td>\n",
       "      <td>NaN</td>\n",
       "      <td>NaN</td>\n",
       "      <td>NaN</td>\n",
       "      <td>NaN</td>\n",
       "      <td>NaN</td>\n",
       "      <td>NaN</td>\n",
       "      <td>...</td>\n",
       "      <td>3950.0</td>\n",
       "      <td>4230.0</td>\n",
       "      <td>4360.0</td>\n",
       "      <td>4410.0</td>\n",
       "      <td>4360.0</td>\n",
       "      <td>4540.0</td>\n",
       "      <td>4540.0</td>\n",
       "      <td>4390.0</td>\n",
       "      <td>4320.0</td>\n",
       "      <td>4320.0</td>\n",
       "    </tr>\n",
       "    <tr>\n",
       "      <td>2</td>\n",
       "      <td>Algeria</td>\n",
       "      <td>190.0</td>\n",
       "      <td>230.0</td>\n",
       "      <td>240.0</td>\n",
       "      <td>240.0</td>\n",
       "      <td>230.0</td>\n",
       "      <td>250.0</td>\n",
       "      <td>280.0</td>\n",
       "      <td>310.0</td>\n",
       "      <td>330.0</td>\n",
       "      <td>...</td>\n",
       "      <td>4200.0</td>\n",
       "      <td>4270.0</td>\n",
       "      <td>4460.0</td>\n",
       "      <td>4580.0</td>\n",
       "      <td>5140.0</td>\n",
       "      <td>5480.0</td>\n",
       "      <td>5470.0</td>\n",
       "      <td>4830.0</td>\n",
       "      <td>4360.0</td>\n",
       "      <td>3960.0</td>\n",
       "    </tr>\n",
       "  </tbody>\n",
       "</table>\n",
       "<p>3 rows × 57 columns</p>\n",
       "</div>"
      ],
      "text/plain": [
       "       country   1962   1963   1964   1965   1966   1967   1968   1969   1970  \\\n",
       "0  Afghanistan    NaN    NaN    NaN    NaN    NaN    NaN    NaN    NaN    NaN   \n",
       "1      Albania    NaN    NaN    NaN    NaN    NaN    NaN    NaN    NaN    NaN   \n",
       "2      Algeria  190.0  230.0  240.0  240.0  230.0  250.0  280.0  310.0  330.0   \n",
       "\n",
       "   ...    2008    2009    2010    2011    2012    2013    2014    2015  \\\n",
       "0  ...   360.0   460.0   500.0   560.0   670.0   680.0   650.0   600.0   \n",
       "1  ...  3950.0  4230.0  4360.0  4410.0  4360.0  4540.0  4540.0  4390.0   \n",
       "2  ...  4200.0  4270.0  4460.0  4580.0  5140.0  5480.0  5470.0  4830.0   \n",
       "\n",
       "     2016    2017  \n",
       "0   580.0   570.0  \n",
       "1  4320.0  4320.0  \n",
       "2  4360.0  3960.0  \n",
       "\n",
       "[3 rows x 57 columns]"
      ]
     },
     "execution_count": 4,
     "metadata": {},
     "output_type": "execute_result"
    }
   ],
   "source": [
    "# Gross national income, GNI, per capita, in current US$\n",
    "gni.head(3)"
   ]
  },
  {
   "cell_type": "code",
   "execution_count": 5,
   "metadata": {},
   "outputs": [
    {
     "data": {
      "text/plain": [
       "array([[<matplotlib.axes._subplots.AxesSubplot object at 0x1a1b629a50>,\n",
       "        <matplotlib.axes._subplots.AxesSubplot object at 0x1a1b708b90>],\n",
       "       [<matplotlib.axes._subplots.AxesSubplot object at 0x1a1b740f10>,\n",
       "        <matplotlib.axes._subplots.AxesSubplot object at 0x1a1b776bd0>]],\n",
       "      dtype=object)"
      ]
     },
     "execution_count": 5,
     "metadata": {},
     "output_type": "execute_result"
    },
    {
     "data": {
      "image/png": "[encoded data removed]",
      "text/plain": [
       "<Figure size 432x288 with 4 Axes>"
      ]
     },
     "metadata": {
      "needs_background": "light"
     },
     "output_type": "display_data"
    }
   ],
   "source": [
    "# GNI per capita Histograms,\n",
    "# Identifying outliers.\n",
    "gni.hist(['1990','1995','2000','2015'], color=['#89C7E7'], alpha=.8)"
   ]
  },
  {
   "cell_type": "markdown",
   "metadata": {},
   "source": [
    "These graphs show a clear trend in the GNI per capita of the countries: a clear inequality of national income. Most have incomes of up to $ 25,000, while the most striking outliers are between 75,000 and 100,000 US dollars."
   ]
  },
  {
   "cell_type": "code",
   "execution_count": 6,
   "metadata": {},
   "outputs": [
    {
     "data": {
      "text/html": [
       "<div>\n",
       "<style scoped>\n",
       "    .dataframe tbody tr th:only-of-type {\n",
       "        vertical-align: middle;\n",
       "    }\n",
       "\n",
       "    .dataframe tbody tr th {\n",
       "        vertical-align: top;\n",
       "    }\n",
       "\n",
       "    .dataframe thead th {\n",
       "        text-align: right;\n",
       "    }\n",
       "</style>\n",
       "<table border=\"1\" class=\"dataframe\">\n",
       "  <thead>\n",
       "    <tr style=\"text-align: right;\">\n",
       "      <th></th>\n",
       "      <th>country</th>\n",
       "      <th>1990</th>\n",
       "      <th>1991</th>\n",
       "      <th>1992</th>\n",
       "      <th>1993</th>\n",
       "      <th>1994</th>\n",
       "      <th>1995</th>\n",
       "      <th>1996</th>\n",
       "      <th>1997</th>\n",
       "      <th>1998</th>\n",
       "      <th>...</th>\n",
       "      <th>2021</th>\n",
       "      <th>2022</th>\n",
       "      <th>2023</th>\n",
       "      <th>2024</th>\n",
       "      <th>2025</th>\n",
       "      <th>2026</th>\n",
       "      <th>2027</th>\n",
       "      <th>2028</th>\n",
       "      <th>2029</th>\n",
       "      <th>2030</th>\n",
       "    </tr>\n",
       "  </thead>\n",
       "  <tbody>\n",
       "    <tr>\n",
       "      <td>0</td>\n",
       "      <td>Afghanistan</td>\n",
       "      <td>15.3</td>\n",
       "      <td>15.4</td>\n",
       "      <td>15.4</td>\n",
       "      <td>15.4</td>\n",
       "      <td>15.4</td>\n",
       "      <td>15.5</td>\n",
       "      <td>15.3</td>\n",
       "      <td>15.2</td>\n",
       "      <td>15.1</td>\n",
       "      <td>...</td>\n",
       "      <td>20.5</td>\n",
       "      <td>20.5</td>\n",
       "      <td>20.6</td>\n",
       "      <td>20.6</td>\n",
       "      <td>20.6</td>\n",
       "      <td>20.7</td>\n",
       "      <td>20.7</td>\n",
       "      <td>20.7</td>\n",
       "      <td>20.7</td>\n",
       "      <td>20.8</td>\n",
       "    </tr>\n",
       "    <tr>\n",
       "      <td>1</td>\n",
       "      <td>Albania</td>\n",
       "      <td>58.0</td>\n",
       "      <td>60.1</td>\n",
       "      <td>60.4</td>\n",
       "      <td>59.8</td>\n",
       "      <td>59.2</td>\n",
       "      <td>58.3</td>\n",
       "      <td>57.8</td>\n",
       "      <td>58.5</td>\n",
       "      <td>58.0</td>\n",
       "      <td>...</td>\n",
       "      <td>56.5</td>\n",
       "      <td>56.9</td>\n",
       "      <td>57.3</td>\n",
       "      <td>57.7</td>\n",
       "      <td>58.0</td>\n",
       "      <td>58.3</td>\n",
       "      <td>58.5</td>\n",
       "      <td>58.6</td>\n",
       "      <td>58.7</td>\n",
       "      <td>58.8</td>\n",
       "    </tr>\n",
       "    <tr>\n",
       "      <td>2</td>\n",
       "      <td>Algeria</td>\n",
       "      <td>12.3</td>\n",
       "      <td>12.3</td>\n",
       "      <td>12.3</td>\n",
       "      <td>12.4</td>\n",
       "      <td>12.5</td>\n",
       "      <td>12.6</td>\n",
       "      <td>12.6</td>\n",
       "      <td>12.6</td>\n",
       "      <td>12.6</td>\n",
       "      <td>...</td>\n",
       "      <td>17.0</td>\n",
       "      <td>17.0</td>\n",
       "      <td>16.9</td>\n",
       "      <td>16.8</td>\n",
       "      <td>16.7</td>\n",
       "      <td>16.6</td>\n",
       "      <td>16.5</td>\n",
       "      <td>16.4</td>\n",
       "      <td>16.4</td>\n",
       "      <td>16.4</td>\n",
       "    </tr>\n",
       "  </tbody>\n",
       "</table>\n",
       "<p>3 rows × 42 columns</p>\n",
       "</div>"
      ],
      "text/plain": [
       "       country  1990  1991  1992  1993  1994  1995  1996  1997  1998  ...  \\\n",
       "0  Afghanistan  15.3  15.4  15.4  15.4  15.4  15.5  15.3  15.2  15.1  ...   \n",
       "1      Albania  58.0  60.1  60.4  59.8  59.2  58.3  57.8  58.5  58.0  ...   \n",
       "2      Algeria  12.3  12.3  12.3  12.4  12.5  12.6  12.6  12.6  12.6  ...   \n",
       "\n",
       "   2021  2022  2023  2024  2025  2026  2027  2028  2029  2030  \n",
       "0  20.5  20.5  20.6  20.6  20.6  20.7  20.7  20.7  20.7  20.8  \n",
       "1  56.5  56.9  57.3  57.7  58.0  58.3  58.5  58.6  58.7  58.8  \n",
       "2  17.0  17.0  16.9  16.8  16.7  16.6  16.5  16.4  16.4  16.4  \n",
       "\n",
       "[3 rows x 42 columns]"
      ]
     },
     "execution_count": 6,
     "metadata": {},
     "output_type": "execute_result"
    }
   ],
   "source": [
    "# Percentage of female labour to total female population. Aged 15-64. \n",
    "fem.head(3)"
   ]
  },
  {
   "cell_type": "code",
   "execution_count": 7,
   "metadata": {},
   "outputs": [
    {
     "data": {
      "text/plain": [
       "array([[<matplotlib.axes._subplots.AxesSubplot object at 0x1a1b7cc6d0>,\n",
       "        <matplotlib.axes._subplots.AxesSubplot object at 0x1a1b8d3bd0>],\n",
       "       [<matplotlib.axes._subplots.AxesSubplot object at 0x1a1b97c690>,\n",
       "        <matplotlib.axes._subplots.AxesSubplot object at 0x1a1b9b0e90>]],\n",
       "      dtype=object)"
      ]
     },
     "execution_count": 7,
     "metadata": {},
     "output_type": "execute_result"
    },
    {
     "data": {
      "image/png": "[encoded data removed]",
      "text/plain": [
       "<Figure size 432x288 with 4 Axes>"
      ]
     },
     "metadata": {
      "needs_background": "light"
     },
     "output_type": "display_data"
    }
   ],
   "source": [
    "# Percentage of female labour Histograms,\n",
    "# Identifying outliers.\n",
    "fem.hist(['1990','1995','2000','2015'], color=['#89C7E7'], alpha=.8)"
   ]
  },
  {
   "cell_type": "markdown",
   "metadata": {},
   "source": [
    "The most repeated percentages of working women are located over the years in the same range, from 50 to 70%. We see the most significant outliers in 2015, where there are very few countries with less than 25% working women."
   ]
  },
  {
   "cell_type": "code",
   "execution_count": 8,
   "metadata": {},
   "outputs": [
    {
     "data": {
      "text/html": [
       "<div>\n",
       "<style scoped>\n",
       "    .dataframe tbody tr th:only-of-type {\n",
       "        vertical-align: middle;\n",
       "    }\n",
       "\n",
       "    .dataframe tbody tr th {\n",
       "        vertical-align: top;\n",
       "    }\n",
       "\n",
       "    .dataframe thead th {\n",
       "        text-align: right;\n",
       "    }\n",
       "</style>\n",
       "<table border=\"1\" class=\"dataframe\">\n",
       "  <thead>\n",
       "    <tr style=\"text-align: right;\">\n",
       "      <th></th>\n",
       "      <th>country</th>\n",
       "      <th>Continent</th>\n",
       "    </tr>\n",
       "  </thead>\n",
       "  <tbody>\n",
       "    <tr>\n",
       "      <td>0</td>\n",
       "      <td>Afghanistan</td>\n",
       "      <td>AS</td>\n",
       "    </tr>\n",
       "    <tr>\n",
       "      <td>1</td>\n",
       "      <td>Albania</td>\n",
       "      <td>EU</td>\n",
       "    </tr>\n",
       "    <tr>\n",
       "      <td>2</td>\n",
       "      <td>Algeria</td>\n",
       "      <td>AF</td>\n",
       "    </tr>\n",
       "  </tbody>\n",
       "</table>\n",
       "</div>"
      ],
      "text/plain": [
       "       country Continent\n",
       "0  Afghanistan        AS\n",
       "1      Albania        EU\n",
       "2      Algeria        AF"
      ]
     },
     "execution_count": 8,
     "metadata": {},
     "output_type": "execute_result"
    }
   ],
   "source": [
    "# List of countries and continents\n",
    "continent_list.head(3)"
   ]
  },
  {
   "cell_type": "code",
   "execution_count": 9,
   "metadata": {},
   "outputs": [
    {
     "data": {
      "text/html": [
       "<div>\n",
       "<style scoped>\n",
       "    .dataframe tbody tr th:only-of-type {\n",
       "        vertical-align: middle;\n",
       "    }\n",
       "\n",
       "    .dataframe tbody tr th {\n",
       "        vertical-align: top;\n",
       "    }\n",
       "\n",
       "    .dataframe thead th {\n",
       "        text-align: right;\n",
       "    }\n",
       "</style>\n",
       "<table border=\"1\" class=\"dataframe\">\n",
       "  <thead>\n",
       "    <tr style=\"text-align: right;\">\n",
       "      <th></th>\n",
       "      <th>country</th>\n",
       "      <th>Continent</th>\n",
       "      <th>1990</th>\n",
       "      <th>1991</th>\n",
       "      <th>1992</th>\n",
       "      <th>1993</th>\n",
       "      <th>1994</th>\n",
       "      <th>1995</th>\n",
       "      <th>1996</th>\n",
       "      <th>1997</th>\n",
       "      <th>...</th>\n",
       "      <th>2006</th>\n",
       "      <th>2007</th>\n",
       "      <th>2008</th>\n",
       "      <th>2009</th>\n",
       "      <th>2010</th>\n",
       "      <th>2011</th>\n",
       "      <th>2012</th>\n",
       "      <th>2013</th>\n",
       "      <th>2014</th>\n",
       "      <th>2015</th>\n",
       "    </tr>\n",
       "  </thead>\n",
       "  <tbody>\n",
       "  </tbody>\n",
       "</table>\n",
       "<p>0 rows × 28 columns</p>\n",
       "</div>"
      ],
      "text/plain": [
       "Empty DataFrame\n",
       "Columns: [country, Continent, 1990, 1991, 1992, 1993, 1994, 1995, 1996, 1997, 1998, 1999, 2000, 2001, 2002, 2003, 2004, 2005, 2006, 2007, 2008, 2009, 2010, 2011, 2012, 2013, 2014, 2015]\n",
       "Index: []\n",
       "\n",
       "[0 rows x 28 columns]"
      ]
     },
     "execution_count": 9,
     "metadata": {},
     "output_type": "execute_result"
    }
   ],
   "source": [
    "# For countries that are part of more than one continent, e.g. Armenia it is part of EU and Asia,\n",
    "#  we duplicate their information in two rows for each continent.\n",
    "#  We create a new dataframe with these new rows, transcont, for the first question of \n",
    "#  exploratory data analysis.\n",
    "transcont = pd.read_csv('continents_hdi.csv')\n",
    "trans = transcont[transcont['Continent'].str.contains('/')]\n",
    "transcont1 = trans.copy()\n",
    "transcont2 = trans.copy()\n",
    "split_column = ['Continent']\n",
    "for c in split_column:\n",
    "    transcont1[c] = transcont1[c].apply(lambda x: x.split(\" / \")[0])\n",
    "    transcont2[c] = transcont2[c].apply(lambda x: x.split(\" / \")[1])\n",
    "new_rows = transcont1.append(transcont2)\n",
    "transcont.drop(trans.index, inplace=True)\n",
    "transcont = transcont.append(new_rows, ignore_index= True)\n",
    "transcont[transcont['Continent'].str.contains(' / ')]"
   ]
  },
  {
   "cell_type": "markdown",
   "metadata": {},
   "source": [
    "<a id='eda'></a>\n",
    "## Exploratory Data Analysis\n",
    "\n",
    "\n",
    "### How the Human Development Index indicator has evolved through the years in each continent\n"
   ]
  },
  {
   "cell_type": "code",
   "execution_count": 10,
   "metadata": {},
   "outputs": [
    {
     "data": {
      "text/html": [
       "<div>\n",
       "<style scoped>\n",
       "    .dataframe tbody tr th:only-of-type {\n",
       "        vertical-align: middle;\n",
       "    }\n",
       "\n",
       "    .dataframe tbody tr th {\n",
       "        vertical-align: top;\n",
       "    }\n",
       "\n",
       "    .dataframe thead th {\n",
       "        text-align: right;\n",
       "    }\n",
       "</style>\n",
       "<table border=\"1\" class=\"dataframe\">\n",
       "  <thead>\n",
       "    <tr style=\"text-align: right;\">\n",
       "      <th></th>\n",
       "      <th>1990</th>\n",
       "      <th>1991</th>\n",
       "      <th>1992</th>\n",
       "      <th>1993</th>\n",
       "      <th>1994</th>\n",
       "      <th>1995</th>\n",
       "      <th>1996</th>\n",
       "      <th>1997</th>\n",
       "      <th>1998</th>\n",
       "      <th>1999</th>\n",
       "      <th>...</th>\n",
       "      <th>2006</th>\n",
       "      <th>2007</th>\n",
       "      <th>2008</th>\n",
       "      <th>2009</th>\n",
       "      <th>2010</th>\n",
       "      <th>2011</th>\n",
       "      <th>2012</th>\n",
       "      <th>2013</th>\n",
       "      <th>2014</th>\n",
       "      <th>2015</th>\n",
       "    </tr>\n",
       "    <tr>\n",
       "      <th>Continent</th>\n",
       "      <th></th>\n",
       "      <th></th>\n",
       "      <th></th>\n",
       "      <th></th>\n",
       "      <th></th>\n",
       "      <th></th>\n",
       "      <th></th>\n",
       "      <th></th>\n",
       "      <th></th>\n",
       "      <th></th>\n",
       "      <th></th>\n",
       "      <th></th>\n",
       "      <th></th>\n",
       "      <th></th>\n",
       "      <th></th>\n",
       "      <th></th>\n",
       "      <th></th>\n",
       "      <th></th>\n",
       "      <th></th>\n",
       "      <th></th>\n",
       "      <th></th>\n",
       "    </tr>\n",
       "  </thead>\n",
       "  <tbody>\n",
       "    <tr>\n",
       "      <td>A</td>\n",
       "      <td>0.624458</td>\n",
       "      <td>0.628542</td>\n",
       "      <td>0.633125</td>\n",
       "      <td>0.637917</td>\n",
       "      <td>0.642958</td>\n",
       "      <td>0.648167</td>\n",
       "      <td>0.654167</td>\n",
       "      <td>0.660167</td>\n",
       "      <td>0.665958</td>\n",
       "      <td>0.670875</td>\n",
       "      <td>...</td>\n",
       "      <td>0.704792</td>\n",
       "      <td>0.711292</td>\n",
       "      <td>0.716917</td>\n",
       "      <td>0.718917</td>\n",
       "      <td>0.723917</td>\n",
       "      <td>0.728583</td>\n",
       "      <td>0.731708</td>\n",
       "      <td>0.736292</td>\n",
       "      <td>0.740625</td>\n",
       "      <td>0.742458</td>\n",
       "    </tr>\n",
       "    <tr>\n",
       "      <td>AF</td>\n",
       "      <td>0.420455</td>\n",
       "      <td>0.422212</td>\n",
       "      <td>0.422909</td>\n",
       "      <td>0.425000</td>\n",
       "      <td>0.426667</td>\n",
       "      <td>0.430394</td>\n",
       "      <td>0.433606</td>\n",
       "      <td>0.437212</td>\n",
       "      <td>0.440212</td>\n",
       "      <td>0.438371</td>\n",
       "      <td>...</td>\n",
       "      <td>0.469537</td>\n",
       "      <td>0.478561</td>\n",
       "      <td>0.487000</td>\n",
       "      <td>0.494732</td>\n",
       "      <td>0.501756</td>\n",
       "      <td>0.508732</td>\n",
       "      <td>0.516439</td>\n",
       "      <td>0.521854</td>\n",
       "      <td>0.526244</td>\n",
       "      <td>0.529244</td>\n",
       "    </tr>\n",
       "    <tr>\n",
       "      <td>AS</td>\n",
       "      <td>0.584143</td>\n",
       "      <td>0.587200</td>\n",
       "      <td>0.590200</td>\n",
       "      <td>0.595057</td>\n",
       "      <td>0.599714</td>\n",
       "      <td>0.606083</td>\n",
       "      <td>0.612722</td>\n",
       "      <td>0.618639</td>\n",
       "      <td>0.623944</td>\n",
       "      <td>0.629694</td>\n",
       "      <td>...</td>\n",
       "      <td>0.677256</td>\n",
       "      <td>0.685128</td>\n",
       "      <td>0.690718</td>\n",
       "      <td>0.694462</td>\n",
       "      <td>0.701410</td>\n",
       "      <td>0.707462</td>\n",
       "      <td>0.712564</td>\n",
       "      <td>0.715205</td>\n",
       "      <td>0.718282</td>\n",
       "      <td>0.719487</td>\n",
       "    </tr>\n",
       "    <tr>\n",
       "      <td>EU</td>\n",
       "      <td>0.738944</td>\n",
       "      <td>0.738972</td>\n",
       "      <td>0.738250</td>\n",
       "      <td>0.742139</td>\n",
       "      <td>0.747167</td>\n",
       "      <td>0.746368</td>\n",
       "      <td>0.751500</td>\n",
       "      <td>0.757289</td>\n",
       "      <td>0.764632</td>\n",
       "      <td>0.770158</td>\n",
       "      <td>...</td>\n",
       "      <td>0.808220</td>\n",
       "      <td>0.814390</td>\n",
       "      <td>0.818854</td>\n",
       "      <td>0.819732</td>\n",
       "      <td>0.824610</td>\n",
       "      <td>0.829220</td>\n",
       "      <td>0.832195</td>\n",
       "      <td>0.836634</td>\n",
       "      <td>0.839927</td>\n",
       "      <td>0.841659</td>\n",
       "    </tr>\n",
       "    <tr>\n",
       "      <td>OC</td>\n",
       "      <td>0.842000</td>\n",
       "      <td>0.843500</td>\n",
       "      <td>0.848000</td>\n",
       "      <td>0.855000</td>\n",
       "      <td>0.860500</td>\n",
       "      <td>0.868000</td>\n",
       "      <td>0.871500</td>\n",
       "      <td>0.875500</td>\n",
       "      <td>0.878500</td>\n",
       "      <td>0.880500</td>\n",
       "      <td>...</td>\n",
       "      <td>0.904500</td>\n",
       "      <td>0.907500</td>\n",
       "      <td>0.910000</td>\n",
       "      <td>0.913000</td>\n",
       "      <td>0.914000</td>\n",
       "      <td>0.917000</td>\n",
       "      <td>0.920500</td>\n",
       "      <td>0.923000</td>\n",
       "      <td>0.925000</td>\n",
       "      <td>0.927000</td>\n",
       "    </tr>\n",
       "  </tbody>\n",
       "</table>\n",
       "<p>5 rows × 26 columns</p>\n",
       "</div>"
      ],
      "text/plain": [
       "               1990      1991      1992      1993      1994      1995  \\\n",
       "Continent                                                               \n",
       "A          0.624458  0.628542  0.633125  0.637917  0.642958  0.648167   \n",
       "AF         0.420455  0.422212  0.422909  0.425000  0.426667  0.430394   \n",
       "AS         0.584143  0.587200  0.590200  0.595057  0.599714  0.606083   \n",
       "EU         0.738944  0.738972  0.738250  0.742139  0.747167  0.746368   \n",
       "OC         0.842000  0.843500  0.848000  0.855000  0.860500  0.868000   \n",
       "\n",
       "               1996      1997      1998      1999  ...      2006      2007  \\\n",
       "Continent                                          ...                       \n",
       "A          0.654167  0.660167  0.665958  0.670875  ...  0.704792  0.711292   \n",
       "AF         0.433606  0.437212  0.440212  0.438371  ...  0.469537  0.478561   \n",
       "AS         0.612722  0.618639  0.623944  0.629694  ...  0.677256  0.685128   \n",
       "EU         0.751500  0.757289  0.764632  0.770158  ...  0.808220  0.814390   \n",
       "OC         0.871500  0.875500  0.878500  0.880500  ...  0.904500  0.907500   \n",
       "\n",
       "               2008      2009      2010      2011      2012      2013  \\\n",
       "Continent                                                               \n",
       "A          0.716917  0.718917  0.723917  0.728583  0.731708  0.736292   \n",
       "AF         0.487000  0.494732  0.501756  0.508732  0.516439  0.521854   \n",
       "AS         0.690718  0.694462  0.701410  0.707462  0.712564  0.715205   \n",
       "EU         0.818854  0.819732  0.824610  0.829220  0.832195  0.836634   \n",
       "OC         0.910000  0.913000  0.914000  0.917000  0.920500  0.923000   \n",
       "\n",
       "               2014      2015  \n",
       "Continent                      \n",
       "A          0.740625  0.742458  \n",
       "AF         0.526244  0.529244  \n",
       "AS         0.718282  0.719487  \n",
       "EU         0.839927  0.841659  \n",
       "OC         0.925000  0.927000  \n",
       "\n",
       "[5 rows x 26 columns]"
      ]
     },
     "execution_count": 10,
     "metadata": {},
     "output_type": "execute_result"
    }
   ],
   "source": [
    "# Group countries by continent and get the mean for each year in a new dataframe\n",
    "hdi_by_continent = transcont.groupby('Continent')['1990','1991','1992','1993','1994','1995','1996','1997','1998','1999','2000','2001','2002','2003','2004','2005','2006','2007','2008','2009','2010','2011','2012','2013','2014','2015'].mean()\n",
    "hdi_by_continent"
   ]
  },
  {
   "cell_type": "code",
   "execution_count": 11,
   "metadata": {},
   "outputs": [],
   "source": [
    "# Transpose this dataframe to create a line graph.\n",
    "hdi_by_continent = hdi_by_continent.transpose()"
   ]
  },
  {
   "cell_type": "code",
   "execution_count": 12,
   "metadata": {
    "scrolled": true
   },
   "outputs": [
    {
     "data": {
      "text/html": [
       "<div>\n",
       "<style scoped>\n",
       "    .dataframe tbody tr th:only-of-type {\n",
       "        vertical-align: middle;\n",
       "    }\n",
       "\n",
       "    .dataframe tbody tr th {\n",
       "        vertical-align: top;\n",
       "    }\n",
       "\n",
       "    .dataframe thead th {\n",
       "        text-align: right;\n",
       "    }\n",
       "</style>\n",
       "<table border=\"1\" class=\"dataframe\">\n",
       "  <thead>\n",
       "    <tr style=\"text-align: right;\">\n",
       "      <th>Continent</th>\n",
       "      <th>A</th>\n",
       "      <th>AF</th>\n",
       "      <th>AS</th>\n",
       "      <th>EU</th>\n",
       "      <th>OC</th>\n",
       "    </tr>\n",
       "  </thead>\n",
       "  <tbody>\n",
       "    <tr>\n",
       "      <td>count</td>\n",
       "      <td>26.000000</td>\n",
       "      <td>26.000000</td>\n",
       "      <td>26.000000</td>\n",
       "      <td>26.000000</td>\n",
       "      <td>26.000000</td>\n",
       "    </tr>\n",
       "    <tr>\n",
       "      <td>mean</td>\n",
       "      <td>0.686338</td>\n",
       "      <td>0.462655</td>\n",
       "      <td>0.652674</td>\n",
       "      <td>0.788371</td>\n",
       "      <td>0.890154</td>\n",
       "    </tr>\n",
       "    <tr>\n",
       "      <td>std</td>\n",
       "      <td>0.037547</td>\n",
       "      <td>0.036454</td>\n",
       "      <td>0.045946</td>\n",
       "      <td>0.036060</td>\n",
       "      <td>0.026258</td>\n",
       "    </tr>\n",
       "    <tr>\n",
       "      <td>min</td>\n",
       "      <td>0.624458</td>\n",
       "      <td>0.420455</td>\n",
       "      <td>0.584143</td>\n",
       "      <td>0.738250</td>\n",
       "      <td>0.842000</td>\n",
       "    </tr>\n",
       "    <tr>\n",
       "      <td>25%</td>\n",
       "      <td>0.655667</td>\n",
       "      <td>0.434508</td>\n",
       "      <td>0.614201</td>\n",
       "      <td>0.752947</td>\n",
       "      <td>0.872500</td>\n",
       "    </tr>\n",
       "    <tr>\n",
       "      <td>50%</td>\n",
       "      <td>0.686667</td>\n",
       "      <td>0.448500</td>\n",
       "      <td>0.649605</td>\n",
       "      <td>0.790474</td>\n",
       "      <td>0.894500</td>\n",
       "    </tr>\n",
       "    <tr>\n",
       "      <td>75%</td>\n",
       "      <td>0.718417</td>\n",
       "      <td>0.492799</td>\n",
       "      <td>0.693526</td>\n",
       "      <td>0.819512</td>\n",
       "      <td>0.912250</td>\n",
       "    </tr>\n",
       "    <tr>\n",
       "      <td>max</td>\n",
       "      <td>0.742458</td>\n",
       "      <td>0.529244</td>\n",
       "      <td>0.719487</td>\n",
       "      <td>0.841659</td>\n",
       "      <td>0.927000</td>\n",
       "    </tr>\n",
       "  </tbody>\n",
       "</table>\n",
       "</div>"
      ],
      "text/plain": [
       "Continent          A         AF         AS         EU         OC\n",
       "count      26.000000  26.000000  26.000000  26.000000  26.000000\n",
       "mean        0.686338   0.462655   0.652674   0.788371   0.890154\n",
       "std         0.037547   0.036454   0.045946   0.036060   0.026258\n",
       "min         0.624458   0.420455   0.584143   0.738250   0.842000\n",
       "25%         0.655667   0.434508   0.614201   0.752947   0.872500\n",
       "50%         0.686667   0.448500   0.649605   0.790474   0.894500\n",
       "75%         0.718417   0.492799   0.693526   0.819512   0.912250\n",
       "max         0.742458   0.529244   0.719487   0.841659   0.927000"
      ]
     },
     "execution_count": 12,
     "metadata": {},
     "output_type": "execute_result"
    }
   ],
   "source": [
    "# Small analysis of HD indices by continent.\n",
    "hdi_by_continent.describe()"
   ]
  },
  {
   "cell_type": "markdown",
   "metadata": {},
   "source": [
    "The continent with the highest data is Oceania, with an average HDI of 0.89.\n",
    "In Africa, 75% of countries have a Human Development Index of 0.4928 or less.\n",
    "They are followed by Asia with a 0.6935 and America with a 0.7184."
   ]
  },
  {
   "cell_type": "code",
   "execution_count": 13,
   "metadata": {},
   "outputs": [
    {
     "data": {
      "text/plain": [
       "Continent\n",
       "AF    0.462655\n",
       "AS    0.652674\n",
       "A     0.686338\n",
       "EU    0.788371\n",
       "OC    0.890154\n",
       "dtype: float64"
      ]
     },
     "execution_count": 13,
     "metadata": {},
     "output_type": "execute_result"
    }
   ],
   "source": [
    "# Mean HDI by continent, in order.\n",
    "hdi_by_continent.mean().nsmallest()"
   ]
  },
  {
   "cell_type": "code",
   "execution_count": 14,
   "metadata": {},
   "outputs": [
    {
     "data": {
      "text/plain": [
       "Text(0, 0.5, 'Human Development Index (from 0 to 1)')"
      ]
     },
     "execution_count": 14,
     "metadata": {},
     "output_type": "execute_result"
    },
    {
     "data": {
      "image/png": "[encoded data removed]",
      "text/plain": [
       "<Figure size 864x576 with 1 Axes>"
      ]
     },
     "metadata": {
      "needs_background": "light"
     },
     "output_type": "display_data"
    }
   ],
   "source": [
    "# This graph shows the HDI evolution per continent from 1990 to 2015\n",
    "hdi_continent_evolution = pd.DataFrame(hdi_by_continent, index=['1990','1991','1992','1993','1994','1995','1996','1997','1998','1999','2000','2001','2002','2003','2004','2005','2006','2007','2008','2009','2010','2011','2012','2013','2014','2015'])\n",
    "colors = ['#2BA4CF','#7451C9','#F25DA2','#FFC30C','#FC7417']\n",
    "ax = hdi_continent_evolution.plot.line(figsize=(12,8), linewidth=3, color=colors, alpha=.7)\n",
    "ax.legend(['America', 'Africa','Asia','Europe','Oceania'])\n",
    "plt.title('Human Development Index evolution per Continent', fontsize=18)\n",
    "plt.xlabel('years', fontsize=15)\n",
    "plt.ylabel('Human Development Index (from 0 to 1)', fontsize=15)"
   ]
  },
  {
   "cell_type": "markdown",
   "metadata": {},
   "source": [
    "The Human Development Index has grown over the years in all the continents.\n",
    "Oceania, followed by Europe, is the best indicator of health, education and living standard levels. \n",
    "Africa has the lowest Human Development Index, with an average of 0.4627."
   ]
  },
  {
   "cell_type": "markdown",
   "metadata": {},
   "source": [
    "#### What is the difference in the Human Development Index between the 1990s and the new century between countries? Are there countries that have decreased their HDI?"
   ]
  },
  {
   "cell_type": "code",
   "execution_count": 15,
   "metadata": {},
   "outputs": [],
   "source": [
    "# We create two new columns with the averages of the 90s and the averages of the new century.\n",
    "col = hdi.loc[:, '1990':'1999']\n",
    "hdi['90s'] = col.mean(axis=1)\n",
    "\n",
    "col = hdi.loc[:, '2000':'2015']\n",
    "hdi['00s'] = col.mean(axis=1)"
   ]
  },
  {
   "cell_type": "code",
   "execution_count": 16,
   "metadata": {},
   "outputs": [
    {
     "name": "stdout",
     "output_type": "stream",
     "text": [
      "<class 'pandas.core.frame.DataFrame'>\n",
      "Int64Index: 140 entries, 0 to 139\n",
      "Data columns (total 30 columns):\n",
      "country      140 non-null object\n",
      "Continent    140 non-null object\n",
      "1990         125 non-null float64\n",
      "1991         125 non-null float64\n",
      "1992         125 non-null float64\n",
      "1993         125 non-null float64\n",
      "1994         125 non-null float64\n",
      "1995         127 non-null float64\n",
      "1996         127 non-null float64\n",
      "1997         127 non-null float64\n",
      "1998         127 non-null float64\n",
      "1999         129 non-null float64\n",
      "2000         135 non-null float64\n",
      "2001         135 non-null float64\n",
      "2002         135 non-null float64\n",
      "2003         135 non-null float64\n",
      "2004         135 non-null float64\n",
      "2005         140 non-null float64\n",
      "2006         140 non-null float64\n",
      "2007         140 non-null float64\n",
      "2008         140 non-null float64\n",
      "2009         140 non-null float64\n",
      "2010         140 non-null float64\n",
      "2011         140 non-null float64\n",
      "2012         140 non-null float64\n",
      "2013         140 non-null float64\n",
      "2014         140 non-null float64\n",
      "2015         140 non-null float64\n",
      "90s          129 non-null float64\n",
      "00s          140 non-null float64\n",
      "dtypes: float64(28), object(2)\n",
      "memory usage: 33.9+ KB\n"
     ]
    }
   ],
   "source": [
    "# Here we see that there are null values in many countries for HDI.\n",
    "hdi.info()"
   ]
  },
  {
   "cell_type": "code",
   "execution_count": 17,
   "metadata": {},
   "outputs": [
    {
     "data": {
      "text/plain": [
       "90s    11\n",
       "00s     0\n",
       "dtype: int64"
      ]
     },
     "execution_count": 17,
     "metadata": {},
     "output_type": "execute_result"
    }
   ],
   "source": [
    "# How many null values are there for the time intervals we want to compare.\n",
    "hdi.loc[:,['90s','00s']].isnull().sum()"
   ]
  },
  {
   "cell_type": "code",
   "execution_count": 18,
   "metadata": {},
   "outputs": [
    {
     "data": {
      "text/html": [
       "<div>\n",
       "<style scoped>\n",
       "    .dataframe tbody tr th:only-of-type {\n",
       "        vertical-align: middle;\n",
       "    }\n",
       "\n",
       "    .dataframe tbody tr th {\n",
       "        vertical-align: top;\n",
       "    }\n",
       "\n",
       "    .dataframe thead th {\n",
       "        text-align: right;\n",
       "    }\n",
       "</style>\n",
       "<table border=\"1\" class=\"dataframe\">\n",
       "  <thead>\n",
       "    <tr style=\"text-align: right;\">\n",
       "      <th></th>\n",
       "      <th>country</th>\n",
       "      <th>Continent</th>\n",
       "      <th>1990</th>\n",
       "      <th>1991</th>\n",
       "      <th>1992</th>\n",
       "      <th>1993</th>\n",
       "      <th>1994</th>\n",
       "      <th>1995</th>\n",
       "      <th>1996</th>\n",
       "      <th>1997</th>\n",
       "      <th>...</th>\n",
       "      <th>2008</th>\n",
       "      <th>2009</th>\n",
       "      <th>2010</th>\n",
       "      <th>2011</th>\n",
       "      <th>2012</th>\n",
       "      <th>2013</th>\n",
       "      <th>2014</th>\n",
       "      <th>2015</th>\n",
       "      <th>90s</th>\n",
       "      <th>00s</th>\n",
       "    </tr>\n",
       "  </thead>\n",
       "  <tbody>\n",
       "    <tr>\n",
       "      <td>15</td>\n",
       "      <td>Bosnia and Herzegovina</td>\n",
       "      <td>EU</td>\n",
       "      <td>NaN</td>\n",
       "      <td>NaN</td>\n",
       "      <td>NaN</td>\n",
       "      <td>NaN</td>\n",
       "      <td>NaN</td>\n",
       "      <td>NaN</td>\n",
       "      <td>NaN</td>\n",
       "      <td>NaN</td>\n",
       "      <td>...</td>\n",
       "      <td>0.716</td>\n",
       "      <td>0.717</td>\n",
       "      <td>0.711</td>\n",
       "      <td>0.728</td>\n",
       "      <td>0.735</td>\n",
       "      <td>0.742</td>\n",
       "      <td>0.747</td>\n",
       "      <td>0.750</td>\n",
       "      <td>NaN</td>\n",
       "      <td>0.723273</td>\n",
       "    </tr>\n",
       "    <tr>\n",
       "      <td>19</td>\n",
       "      <td>Burkina Faso</td>\n",
       "      <td>AF</td>\n",
       "      <td>NaN</td>\n",
       "      <td>NaN</td>\n",
       "      <td>NaN</td>\n",
       "      <td>NaN</td>\n",
       "      <td>NaN</td>\n",
       "      <td>NaN</td>\n",
       "      <td>NaN</td>\n",
       "      <td>NaN</td>\n",
       "      <td>...</td>\n",
       "      <td>0.356</td>\n",
       "      <td>0.365</td>\n",
       "      <td>0.377</td>\n",
       "      <td>0.384</td>\n",
       "      <td>0.392</td>\n",
       "      <td>0.398</td>\n",
       "      <td>0.399</td>\n",
       "      <td>0.402</td>\n",
       "      <td>NaN</td>\n",
       "      <td>0.370636</td>\n",
       "    </tr>\n",
       "    <tr>\n",
       "      <td>24</td>\n",
       "      <td>Chad</td>\n",
       "      <td>AF</td>\n",
       "      <td>NaN</td>\n",
       "      <td>NaN</td>\n",
       "      <td>NaN</td>\n",
       "      <td>NaN</td>\n",
       "      <td>NaN</td>\n",
       "      <td>NaN</td>\n",
       "      <td>NaN</td>\n",
       "      <td>NaN</td>\n",
       "      <td>...</td>\n",
       "      <td>0.343</td>\n",
       "      <td>0.360</td>\n",
       "      <td>0.370</td>\n",
       "      <td>0.381</td>\n",
       "      <td>0.387</td>\n",
       "      <td>0.390</td>\n",
       "      <td>0.394</td>\n",
       "      <td>0.396</td>\n",
       "      <td>NaN</td>\n",
       "      <td>0.341375</td>\n",
       "    </tr>\n",
       "    <tr>\n",
       "      <td>40</td>\n",
       "      <td>Equatorial Guinea</td>\n",
       "      <td>AF</td>\n",
       "      <td>NaN</td>\n",
       "      <td>NaN</td>\n",
       "      <td>NaN</td>\n",
       "      <td>NaN</td>\n",
       "      <td>NaN</td>\n",
       "      <td>NaN</td>\n",
       "      <td>NaN</td>\n",
       "      <td>NaN</td>\n",
       "      <td>...</td>\n",
       "      <td>0.590</td>\n",
       "      <td>0.589</td>\n",
       "      <td>0.580</td>\n",
       "      <td>0.583</td>\n",
       "      <td>0.586</td>\n",
       "      <td>0.582</td>\n",
       "      <td>0.582</td>\n",
       "      <td>0.592</td>\n",
       "      <td>NaN</td>\n",
       "      <td>0.573188</td>\n",
       "    </tr>\n",
       "    <tr>\n",
       "      <td>41</td>\n",
       "      <td>Eritrea</td>\n",
       "      <td>AF</td>\n",
       "      <td>NaN</td>\n",
       "      <td>NaN</td>\n",
       "      <td>NaN</td>\n",
       "      <td>NaN</td>\n",
       "      <td>NaN</td>\n",
       "      <td>NaN</td>\n",
       "      <td>NaN</td>\n",
       "      <td>NaN</td>\n",
       "      <td>...</td>\n",
       "      <td>0.402</td>\n",
       "      <td>0.404</td>\n",
       "      <td>0.405</td>\n",
       "      <td>0.410</td>\n",
       "      <td>0.414</td>\n",
       "      <td>0.416</td>\n",
       "      <td>0.418</td>\n",
       "      <td>0.420</td>\n",
       "      <td>NaN</td>\n",
       "      <td>0.409545</td>\n",
       "    </tr>\n",
       "    <tr>\n",
       "      <td>43</td>\n",
       "      <td>Ethiopia</td>\n",
       "      <td>AF</td>\n",
       "      <td>NaN</td>\n",
       "      <td>NaN</td>\n",
       "      <td>NaN</td>\n",
       "      <td>NaN</td>\n",
       "      <td>NaN</td>\n",
       "      <td>NaN</td>\n",
       "      <td>NaN</td>\n",
       "      <td>NaN</td>\n",
       "      <td>...</td>\n",
       "      <td>0.393</td>\n",
       "      <td>0.401</td>\n",
       "      <td>0.411</td>\n",
       "      <td>0.422</td>\n",
       "      <td>0.427</td>\n",
       "      <td>0.435</td>\n",
       "      <td>0.441</td>\n",
       "      <td>0.448</td>\n",
       "      <td>NaN</td>\n",
       "      <td>0.374125</td>\n",
       "    </tr>\n",
       "    <tr>\n",
       "      <td>48</td>\n",
       "      <td>Georgia</td>\n",
       "      <td>AS / EU</td>\n",
       "      <td>NaN</td>\n",
       "      <td>NaN</td>\n",
       "      <td>NaN</td>\n",
       "      <td>NaN</td>\n",
       "      <td>NaN</td>\n",
       "      <td>NaN</td>\n",
       "      <td>NaN</td>\n",
       "      <td>NaN</td>\n",
       "      <td>...</td>\n",
       "      <td>0.734</td>\n",
       "      <td>0.738</td>\n",
       "      <td>0.742</td>\n",
       "      <td>0.749</td>\n",
       "      <td>0.755</td>\n",
       "      <td>0.759</td>\n",
       "      <td>0.768</td>\n",
       "      <td>0.769</td>\n",
       "      <td>NaN</td>\n",
       "      <td>0.726000</td>\n",
       "    </tr>\n",
       "    <tr>\n",
       "      <td>72</td>\n",
       "      <td>Lebanon</td>\n",
       "      <td>AS</td>\n",
       "      <td>NaN</td>\n",
       "      <td>NaN</td>\n",
       "      <td>NaN</td>\n",
       "      <td>NaN</td>\n",
       "      <td>NaN</td>\n",
       "      <td>NaN</td>\n",
       "      <td>NaN</td>\n",
       "      <td>NaN</td>\n",
       "      <td>...</td>\n",
       "      <td>0.746</td>\n",
       "      <td>0.752</td>\n",
       "      <td>0.758</td>\n",
       "      <td>0.763</td>\n",
       "      <td>0.766</td>\n",
       "      <td>0.763</td>\n",
       "      <td>0.763</td>\n",
       "      <td>0.763</td>\n",
       "      <td>NaN</td>\n",
       "      <td>0.752545</td>\n",
       "    </tr>\n",
       "    <tr>\n",
       "      <td>76</td>\n",
       "      <td>Madagascar</td>\n",
       "      <td>AF</td>\n",
       "      <td>NaN</td>\n",
       "      <td>NaN</td>\n",
       "      <td>NaN</td>\n",
       "      <td>NaN</td>\n",
       "      <td>NaN</td>\n",
       "      <td>NaN</td>\n",
       "      <td>NaN</td>\n",
       "      <td>NaN</td>\n",
       "      <td>...</td>\n",
       "      <td>0.500</td>\n",
       "      <td>0.503</td>\n",
       "      <td>0.504</td>\n",
       "      <td>0.506</td>\n",
       "      <td>0.508</td>\n",
       "      <td>0.509</td>\n",
       "      <td>0.511</td>\n",
       "      <td>0.512</td>\n",
       "      <td>NaN</td>\n",
       "      <td>0.488688</td>\n",
       "    </tr>\n",
       "    <tr>\n",
       "      <td>94</td>\n",
       "      <td>North Macedonia</td>\n",
       "      <td>EU</td>\n",
       "      <td>NaN</td>\n",
       "      <td>NaN</td>\n",
       "      <td>NaN</td>\n",
       "      <td>NaN</td>\n",
       "      <td>NaN</td>\n",
       "      <td>NaN</td>\n",
       "      <td>NaN</td>\n",
       "      <td>NaN</td>\n",
       "      <td>...</td>\n",
       "      <td>0.730</td>\n",
       "      <td>0.732</td>\n",
       "      <td>0.735</td>\n",
       "      <td>0.739</td>\n",
       "      <td>0.741</td>\n",
       "      <td>0.743</td>\n",
       "      <td>0.746</td>\n",
       "      <td>0.748</td>\n",
       "      <td>NaN</td>\n",
       "      <td>0.730909</td>\n",
       "    </tr>\n",
       "    <tr>\n",
       "      <td>125</td>\n",
       "      <td>Timor-Leste</td>\n",
       "      <td>AS</td>\n",
       "      <td>NaN</td>\n",
       "      <td>NaN</td>\n",
       "      <td>NaN</td>\n",
       "      <td>NaN</td>\n",
       "      <td>NaN</td>\n",
       "      <td>NaN</td>\n",
       "      <td>NaN</td>\n",
       "      <td>NaN</td>\n",
       "      <td>...</td>\n",
       "      <td>0.599</td>\n",
       "      <td>0.599</td>\n",
       "      <td>0.607</td>\n",
       "      <td>0.618</td>\n",
       "      <td>0.620</td>\n",
       "      <td>0.612</td>\n",
       "      <td>0.603</td>\n",
       "      <td>0.606</td>\n",
       "      <td>NaN</td>\n",
       "      <td>0.555500</td>\n",
       "    </tr>\n",
       "  </tbody>\n",
       "</table>\n",
       "<p>11 rows × 30 columns</p>\n",
       "</div>"
      ],
      "text/plain": [
       "                    country Continent  1990  1991  1992  1993  1994  1995  \\\n",
       "15   Bosnia and Herzegovina        EU   NaN   NaN   NaN   NaN   NaN   NaN   \n",
       "19             Burkina Faso        AF   NaN   NaN   NaN   NaN   NaN   NaN   \n",
       "24                     Chad        AF   NaN   NaN   NaN   NaN   NaN   NaN   \n",
       "40        Equatorial Guinea        AF   NaN   NaN   NaN   NaN   NaN   NaN   \n",
       "41                  Eritrea        AF   NaN   NaN   NaN   NaN   NaN   NaN   \n",
       "43                 Ethiopia        AF   NaN   NaN   NaN   NaN   NaN   NaN   \n",
       "48                  Georgia   AS / EU   NaN   NaN   NaN   NaN   NaN   NaN   \n",
       "72                  Lebanon        AS   NaN   NaN   NaN   NaN   NaN   NaN   \n",
       "76               Madagascar        AF   NaN   NaN   NaN   NaN   NaN   NaN   \n",
       "94          North Macedonia        EU   NaN   NaN   NaN   NaN   NaN   NaN   \n",
       "125             Timor-Leste        AS   NaN   NaN   NaN   NaN   NaN   NaN   \n",
       "\n",
       "     1996  1997  ...   2008   2009   2010   2011   2012   2013   2014   2015  \\\n",
       "15    NaN   NaN  ...  0.716  0.717  0.711  0.728  0.735  0.742  0.747  0.750   \n",
       "19    NaN   NaN  ...  0.356  0.365  0.377  0.384  0.392  0.398  0.399  0.402   \n",
       "24    NaN   NaN  ...  0.343  0.360  0.370  0.381  0.387  0.390  0.394  0.396   \n",
       "40    NaN   NaN  ...  0.590  0.589  0.580  0.583  0.586  0.582  0.582  0.592   \n",
       "41    NaN   NaN  ...  0.402  0.404  0.405  0.410  0.414  0.416  0.418  0.420   \n",
       "43    NaN   NaN  ...  0.393  0.401  0.411  0.422  0.427  0.435  0.441  0.448   \n",
       "48    NaN   NaN  ...  0.734  0.738  0.742  0.749  0.755  0.759  0.768  0.769   \n",
       "72    NaN   NaN  ...  0.746  0.752  0.758  0.763  0.766  0.763  0.763  0.763   \n",
       "76    NaN   NaN  ...  0.500  0.503  0.504  0.506  0.508  0.509  0.511  0.512   \n",
       "94    NaN   NaN  ...  0.730  0.732  0.735  0.739  0.741  0.743  0.746  0.748   \n",
       "125   NaN   NaN  ...  0.599  0.599  0.607  0.618  0.620  0.612  0.603  0.606   \n",
       "\n",
       "     90s       00s  \n",
       "15   NaN  0.723273  \n",
       "19   NaN  0.370636  \n",
       "24   NaN  0.341375  \n",
       "40   NaN  0.573188  \n",
       "41   NaN  0.409545  \n",
       "43   NaN  0.374125  \n",
       "48   NaN  0.726000  \n",
       "72   NaN  0.752545  \n",
       "76   NaN  0.488688  \n",
       "94   NaN  0.730909  \n",
       "125  NaN  0.555500  \n",
       "\n",
       "[11 rows x 30 columns]"
      ]
     },
     "execution_count": 18,
     "metadata": {},
     "output_type": "execute_result"
    }
   ],
   "source": [
    "# Check which countries won't be analyzed for those time intervals.\n",
    "hdi_null_countries = hdi[hdi['90s'].isnull() == True]\n",
    "hdi_null_countries"
   ]
  },
  {
   "cell_type": "markdown",
   "metadata": {},
   "source": [
    "En este momento hay que hacer una limpieza de datos para poder comparar el incremento entre los intervalos de tiempo de los años 90 y los años 2000.\n",
    "11 países no tienen valores en la década de los 90. Por tanto, hay que eliminar dichos 11 países.\n",
    "Con esto podremos comparar de forma correcta 129 países.\n",
    "La mayoría de países descartados son Africanos.\n",
    "Vamos a crear un nuevo dataframe con las variables de HDI de la década de los años 90 y de los años 2000.\n",
    "\n",
    "At this point, you have to do a data cleaning to be able to compare the increase between the time intervals of the 90s and the 2000s.\n",
    "11 countries have no values in the 1990s. Therefore, these 11 countries must be eliminated.\n",
    "Now, we can correctly compare 129 countries.\n",
    "Most of the discarded countries are from Africa."
   ]
  },
  {
   "cell_type": "code",
   "execution_count": 19,
   "metadata": {},
   "outputs": [
    {
     "data": {
      "text/plain": [
       "<bound method Series.any of country      0\n",
       "Continent    0\n",
       "90s          0\n",
       "00s          0\n",
       "dtype: int64>"
      ]
     },
     "execution_count": 19,
     "metadata": {},
     "output_type": "execute_result"
    }
   ],
   "source": [
    "# We create a new dataframe, hdi_timeslots, with the time intervals that we want to analyze.\n",
    "# We eliminate countries without values and compare countries with data.\n",
    "hdi_timeslots = hdi.loc[:,['country','Continent','90s','00s']]\n",
    "hdi_timeslots.dropna(inplace=True)\n",
    "hdi_timeslots.isnull().sum().any"
   ]
  },
  {
   "cell_type": "code",
   "execution_count": 20,
   "metadata": {},
   "outputs": [
    {
     "name": "stdout",
     "output_type": "stream",
     "text": [
      "<class 'pandas.core.frame.DataFrame'>\n",
      "Int64Index: 129 entries, 0 to 139\n",
      "Data columns (total 4 columns):\n",
      "country      129 non-null object\n",
      "Continent    129 non-null object\n",
      "90s          129 non-null float64\n",
      "00s          129 non-null float64\n",
      "dtypes: float64(2), object(2)\n",
      "memory usage: 5.0+ KB\n"
     ]
    }
   ],
   "source": [
    "# Now we are going to compare the HDI increment between these time intervals for 129 countries.\n",
    "hdi_timeslots.info()"
   ]
  },
  {
   "cell_type": "code",
   "execution_count": 21,
   "metadata": {},
   "outputs": [
    {
     "data": {
      "text/html": [
       "<div>\n",
       "<style scoped>\n",
       "    .dataframe tbody tr th:only-of-type {\n",
       "        vertical-align: middle;\n",
       "    }\n",
       "\n",
       "    .dataframe tbody tr th {\n",
       "        vertical-align: top;\n",
       "    }\n",
       "\n",
       "    .dataframe thead th {\n",
       "        text-align: right;\n",
       "    }\n",
       "</style>\n",
       "<table border=\"1\" class=\"dataframe\">\n",
       "  <thead>\n",
       "    <tr style=\"text-align: right;\">\n",
       "      <th></th>\n",
       "      <th>country</th>\n",
       "      <th>Continent</th>\n",
       "      <th>90s</th>\n",
       "      <th>00s</th>\n",
       "      <th>00s-90s</th>\n",
       "    </tr>\n",
       "  </thead>\n",
       "  <tbody>\n",
       "    <tr>\n",
       "      <td>73</td>\n",
       "      <td>Lesotho</td>\n",
       "      <td>AF</td>\n",
       "      <td>0.4782</td>\n",
       "      <td>0.460062</td>\n",
       "      <td>-0.018138</td>\n",
       "    </tr>\n",
       "    <tr>\n",
       "      <td>114</td>\n",
       "      <td>South Africa</td>\n",
       "      <td>AF</td>\n",
       "      <td>0.6412</td>\n",
       "      <td>0.631000</td>\n",
       "      <td>-0.010200</td>\n",
       "    </tr>\n",
       "    <tr>\n",
       "      <td>118</td>\n",
       "      <td>Swaziland</td>\n",
       "      <td>AF</td>\n",
       "      <td>0.5396</td>\n",
       "      <td>0.517250</td>\n",
       "      <td>-0.022350</td>\n",
       "    </tr>\n",
       "    <tr>\n",
       "      <td>139</td>\n",
       "      <td>Zimbabwe</td>\n",
       "      <td>AF</td>\n",
       "      <td>0.4692</td>\n",
       "      <td>0.444250</td>\n",
       "      <td>-0.024950</td>\n",
       "    </tr>\n",
       "  </tbody>\n",
       "</table>\n",
       "</div>"
      ],
      "text/plain": [
       "          country Continent     90s       00s   00s-90s\n",
       "73        Lesotho        AF  0.4782  0.460062 -0.018138\n",
       "114  South Africa        AF  0.6412  0.631000 -0.010200\n",
       "118     Swaziland        AF  0.5396  0.517250 -0.022350\n",
       "139      Zimbabwe        AF  0.4692  0.444250 -0.024950"
      ]
     },
     "execution_count": 21,
     "metadata": {},
     "output_type": "execute_result"
    }
   ],
   "source": [
    "# We create the HDI increment between these time intervals.\n",
    "hdi_timeslots['00s-90s'] = hdi_timeslots['00s'] - hdi_timeslots['90s']\n",
    "hdi_timeslots['00s-90s']\n",
    "\n",
    "# Next, the countries that have decreased in HDI in this new century. \n",
    "hdi_timeslots[hdi_timeslots['00s-90s'] < 0]"
   ]
  },
  {
   "cell_type": "code",
   "execution_count": 22,
   "metadata": {},
   "outputs": [
    {
     "data": {
      "text/html": [
       "<div>\n",
       "<style scoped>\n",
       "    .dataframe tbody tr th:only-of-type {\n",
       "        vertical-align: middle;\n",
       "    }\n",
       "\n",
       "    .dataframe tbody tr th {\n",
       "        vertical-align: top;\n",
       "    }\n",
       "\n",
       "    .dataframe thead th {\n",
       "        text-align: right;\n",
       "    }\n",
       "</style>\n",
       "<table border=\"1\" class=\"dataframe\">\n",
       "  <thead>\n",
       "    <tr style=\"text-align: right;\">\n",
       "      <th></th>\n",
       "      <th>country</th>\n",
       "      <th>Continent</th>\n",
       "      <th>90s</th>\n",
       "      <th>00s</th>\n",
       "      <th>00s-90s</th>\n",
       "    </tr>\n",
       "  </thead>\n",
       "  <tbody>\n",
       "    <tr>\n",
       "      <td>106</td>\n",
       "      <td>Rwanda</td>\n",
       "      <td>AF</td>\n",
       "      <td>0.2459</td>\n",
       "      <td>0.428938</td>\n",
       "      <td>0.183038</td>\n",
       "    </tr>\n",
       "  </tbody>\n",
       "</table>\n",
       "</div>"
      ],
      "text/plain": [
       "    country Continent     90s       00s   00s-90s\n",
       "106  Rwanda        AF  0.2459  0.428938  0.183038"
      ]
     },
     "execution_count": 22,
     "metadata": {},
     "output_type": "execute_result"
    }
   ],
   "source": [
    "# The country that has increased its HDI the most.\n",
    "hdi_timeslots[hdi_timeslots['00s-90s'] == hdi_timeslots['00s-90s'].max()]"
   ]
  },
  {
   "cell_type": "code",
   "execution_count": 23,
   "metadata": {},
   "outputs": [
    {
     "data": {
      "text/plain": [
       "0.0698483527131783"
      ]
     },
     "execution_count": 23,
     "metadata": {},
     "output_type": "execute_result"
    }
   ],
   "source": [
    "# We calculate the average of the increase or decrease between the 90s and the new century.\n",
    "hdi_timeslots['00s-90s'].mean()"
   ]
  },
  {
   "cell_type": "markdown",
   "metadata": {},
   "source": [
    "Between the 1990s and the new century, there has been an increase in the HD index of 0.0698 in all countries.\n",
    "\n",
    "But Africa has a peculiarity. On this continent we have the only countries where the index has decreased and the country with the maximum increase in the index.\n",
    "\n",
    "The countries with the decrease in index are Lesotho, South Africa, Swaziland and Zimbabwe.\n",
    "Rwanda is the country with the highest HDI increase, 0.1830."
   ]
  },
  {
   "cell_type": "markdown",
   "metadata": {},
   "source": [
    "### Do countries with higher Gross National Income (GNI) per capita have higher Human Development Index?"
   ]
  },
  {
   "cell_type": "markdown",
   "metadata": {},
   "source": [
    "The GNI per capita only reflects the national average income. It does not disclose any information on how that income is invested, or whether it serves to improve health, education, and other human development outcomes. \n",
    "\n",
    "For this reason we are going to see if there is a positive correlation between them. This could indicate that such income could be invested in human development."
   ]
  },
  {
   "cell_type": "code",
   "execution_count": 24,
   "metadata": {},
   "outputs": [],
   "source": [
    "# We are going to select 2015 data from GNI and HDI.\n",
    "# We will rename columns.\n",
    "gni_2015 = gni.loc[:, ['country','2015']]\n",
    "gni_2015.rename(columns={'2015': 'gni_2015'}, inplace=True)\n",
    "hdi.rename(columns={'2015': 'hdi_2015'}, inplace=True)"
   ]
  },
  {
   "cell_type": "code",
   "execution_count": 25,
   "metadata": {},
   "outputs": [
    {
     "data": {
      "text/plain": [
       "(6, 0)"
      ]
     },
     "execution_count": 25,
     "metadata": {},
     "output_type": "execute_result"
    }
   ],
   "source": [
    "# Check if we have null values.\n",
    "gni_2015['gni_2015'].isnull().sum(), hdi['hdi_2015'].isnull().sum()"
   ]
  },
  {
   "cell_type": "code",
   "execution_count": 26,
   "metadata": {},
   "outputs": [
    {
     "data": {
      "text/plain": [
       "False"
      ]
     },
     "execution_count": 26,
     "metadata": {},
     "output_type": "execute_result"
    }
   ],
   "source": [
    "# We will merge gni_2015 and hdi_2015.\n",
    "# We will drop the null values from the new dataframe.\n",
    "gni_hdi_2015 = hdi.loc[:, ['country','Continent','hdi_2015']].merge(gni_2015, left_on='country', right_on='country', how='inner')\n",
    "gni_hdi_2015.dropna(inplace=True)\n",
    "gni_hdi_2015.isnull().sum().any()"
   ]
  },
  {
   "cell_type": "code",
   "execution_count": 27,
   "metadata": {},
   "outputs": [
    {
     "data": {
      "text/html": [
       "<div>\n",
       "<style scoped>\n",
       "    .dataframe tbody tr th:only-of-type {\n",
       "        vertical-align: middle;\n",
       "    }\n",
       "\n",
       "    .dataframe tbody tr th {\n",
       "        vertical-align: top;\n",
       "    }\n",
       "\n",
       "    .dataframe thead th {\n",
       "        text-align: right;\n",
       "    }\n",
       "</style>\n",
       "<table border=\"1\" class=\"dataframe\">\n",
       "  <thead>\n",
       "    <tr style=\"text-align: right;\">\n",
       "      <th></th>\n",
       "      <th>country</th>\n",
       "      <th>Continent</th>\n",
       "      <th>hdi_2015</th>\n",
       "      <th>gni_2015</th>\n",
       "    </tr>\n",
       "  </thead>\n",
       "  <tbody>\n",
       "    <tr>\n",
       "      <td>0</td>\n",
       "      <td>Afghanistan</td>\n",
       "      <td>AS</td>\n",
       "      <td>0.479</td>\n",
       "      <td>600.0</td>\n",
       "    </tr>\n",
       "    <tr>\n",
       "      <td>1</td>\n",
       "      <td>Albania</td>\n",
       "      <td>EU</td>\n",
       "      <td>0.764</td>\n",
       "      <td>4390.0</td>\n",
       "    </tr>\n",
       "    <tr>\n",
       "      <td>2</td>\n",
       "      <td>Algeria</td>\n",
       "      <td>AF</td>\n",
       "      <td>0.745</td>\n",
       "      <td>4830.0</td>\n",
       "    </tr>\n",
       "  </tbody>\n",
       "</table>\n",
       "</div>"
      ],
      "text/plain": [
       "       country Continent  hdi_2015  gni_2015\n",
       "0  Afghanistan        AS     0.479     600.0\n",
       "1      Albania        EU     0.764    4390.0\n",
       "2      Algeria        AF     0.745    4830.0"
      ]
     },
     "execution_count": 27,
     "metadata": {},
     "output_type": "execute_result"
    }
   ],
   "source": [
    "# GNI and HDI dataframe in 2015.\n",
    "gni_hdi_2015.head(3)"
   ]
  },
  {
   "cell_type": "code",
   "execution_count": 28,
   "metadata": {},
   "outputs": [
    {
     "data": {
      "text/html": [
       "<div>\n",
       "<style scoped>\n",
       "    .dataframe tbody tr th:only-of-type {\n",
       "        vertical-align: middle;\n",
       "    }\n",
       "\n",
       "    .dataframe tbody tr th {\n",
       "        vertical-align: top;\n",
       "    }\n",
       "\n",
       "    .dataframe thead th {\n",
       "        text-align: right;\n",
       "    }\n",
       "</style>\n",
       "<table border=\"1\" class=\"dataframe\">\n",
       "  <thead>\n",
       "    <tr style=\"text-align: right;\">\n",
       "      <th></th>\n",
       "      <th>country</th>\n",
       "      <th>Continent</th>\n",
       "      <th>hdi_2015</th>\n",
       "      <th>gni_2015</th>\n",
       "      <th>hdi_cat</th>\n",
       "    </tr>\n",
       "  </thead>\n",
       "  <tbody>\n",
       "    <tr>\n",
       "      <td>0</td>\n",
       "      <td>Afghanistan</td>\n",
       "      <td>AS</td>\n",
       "      <td>0.479</td>\n",
       "      <td>600.0</td>\n",
       "      <td>low index</td>\n",
       "    </tr>\n",
       "    <tr>\n",
       "      <td>1</td>\n",
       "      <td>Albania</td>\n",
       "      <td>EU</td>\n",
       "      <td>0.764</td>\n",
       "      <td>4390.0</td>\n",
       "      <td>high index</td>\n",
       "    </tr>\n",
       "    <tr>\n",
       "      <td>2</td>\n",
       "      <td>Algeria</td>\n",
       "      <td>AF</td>\n",
       "      <td>0.745</td>\n",
       "      <td>4830.0</td>\n",
       "      <td>high index</td>\n",
       "    </tr>\n",
       "  </tbody>\n",
       "</table>\n",
       "</div>"
      ],
      "text/plain": [
       "       country Continent  hdi_2015  gni_2015     hdi_cat\n",
       "0  Afghanistan        AS     0.479     600.0   low index\n",
       "1      Albania        EU     0.764    4390.0  high index\n",
       "2      Algeria        AF     0.745    4830.0  high index"
      ]
     },
     "execution_count": 28,
     "metadata": {},
     "output_type": "execute_result"
    }
   ],
   "source": [
    "# We are going to create categories for HDI.\n",
    "# These bins will be used to \"cut\" the HDI data into categories.\n",
    "bin_edges = [0.3,0.5,0.7,0.9,1.0]\n",
    "\n",
    "bin_names = ['low index','medium index','high index','max. index']\n",
    "\n",
    "\n",
    "# Now we create the HDI categories column.\n",
    "gni_hdi_2015['hdi_cat'] = pd.cut(gni_hdi_2015['hdi_2015'], bin_edges, labels=bin_names)\n",
    "\n",
    "gni_hdi_2015.head(3)"
   ]
  },
  {
   "cell_type": "code",
   "execution_count": 29,
   "metadata": {},
   "outputs": [
    {
     "name": "stdout",
     "output_type": "stream",
     "text": [
      "<class 'pandas.core.frame.DataFrame'>\n",
      "Int64Index: 136 entries, 0 to 139\n",
      "Data columns (total 5 columns):\n",
      "country      136 non-null object\n",
      "Continent    136 non-null object\n",
      "hdi_2015     136 non-null float64\n",
      "gni_2015     136 non-null float64\n",
      "hdi_cat      136 non-null category\n",
      "dtypes: category(1), float64(2), object(2)\n",
      "memory usage: 5.6+ KB\n"
     ]
    }
   ],
   "source": [
    "# We check for null values.\n",
    "gni_hdi_2015.info()"
   ]
  },
  {
   "cell_type": "code",
   "execution_count": 30,
   "metadata": {},
   "outputs": [
    {
     "data": {
      "text/html": [
       "<div>\n",
       "<style scoped>\n",
       "    .dataframe tbody tr th:only-of-type {\n",
       "        vertical-align: middle;\n",
       "    }\n",
       "\n",
       "    .dataframe tbody tr th {\n",
       "        vertical-align: top;\n",
       "    }\n",
       "\n",
       "    .dataframe thead th {\n",
       "        text-align: right;\n",
       "    }\n",
       "</style>\n",
       "<table border=\"1\" class=\"dataframe\">\n",
       "  <thead>\n",
       "    <tr style=\"text-align: right;\">\n",
       "      <th></th>\n",
       "      <th>hdi_2015</th>\n",
       "      <th>gni_2015</th>\n",
       "    </tr>\n",
       "  </thead>\n",
       "  <tbody>\n",
       "    <tr>\n",
       "      <td>count</td>\n",
       "      <td>136.000000</td>\n",
       "      <td>136.000000</td>\n",
       "    </tr>\n",
       "    <tr>\n",
       "      <td>mean</td>\n",
       "      <td>0.705515</td>\n",
       "      <td>14115.441176</td>\n",
       "    </tr>\n",
       "    <tr>\n",
       "      <td>std</td>\n",
       "      <td>0.159496</td>\n",
       "      <td>19193.539649</td>\n",
       "    </tr>\n",
       "    <tr>\n",
       "      <td>min</td>\n",
       "      <td>0.353000</td>\n",
       "      <td>280.000000</td>\n",
       "    </tr>\n",
       "    <tr>\n",
       "      <td>25%</td>\n",
       "      <td>0.575000</td>\n",
       "      <td>1485.000000</td>\n",
       "    </tr>\n",
       "    <tr>\n",
       "      <td>50%</td>\n",
       "      <td>0.741000</td>\n",
       "      <td>5330.000000</td>\n",
       "    </tr>\n",
       "    <tr>\n",
       "      <td>75%</td>\n",
       "      <td>0.840750</td>\n",
       "      <td>17775.000000</td>\n",
       "    </tr>\n",
       "    <tr>\n",
       "      <td>max</td>\n",
       "      <td>0.949000</td>\n",
       "      <td>93100.000000</td>\n",
       "    </tr>\n",
       "  </tbody>\n",
       "</table>\n",
       "</div>"
      ],
      "text/plain": [
       "         hdi_2015      gni_2015\n",
       "count  136.000000    136.000000\n",
       "mean     0.705515  14115.441176\n",
       "std      0.159496  19193.539649\n",
       "min      0.353000    280.000000\n",
       "25%      0.575000   1485.000000\n",
       "50%      0.741000   5330.000000\n",
       "75%      0.840750  17775.000000\n",
       "max      0.949000  93100.000000"
      ]
     },
     "execution_count": 30,
     "metadata": {},
     "output_type": "execute_result"
    }
   ],
   "source": [
    "# Here we can see what happens to HDI and GNI per capita worldwide in 2015. \n",
    "gni_hdi_2015.describe()"
   ]
  },
  {
   "cell_type": "markdown",
   "metadata": {},
   "source": [
    "Here we can see what happens globally in 2015 in the HDI and GNI indicators per capita:\n",
    "The HDI average is 0.7 and the GNI per capita average is $ 14115.44.\n",
    "\n",
    "25% of the countries have an HDI equal to or less than 0.5750 and a GNI per capita equal to or less than $ 1485.\n",
    "\n",
    "50% of countries have an HDI equal to or less than 0.7410 and a GNI per capita equal to or less than $ 5330.\n",
    "\n",
    "75% of the countries have an HDI equal to or less than 0.8408 and a GNI per capita equal to or less than $ 17775.\n",
    "\n",
    "The maximum HDI is 0.9490 and the maximum GNI per capita is $ 93,100."
   ]
  },
  {
   "cell_type": "code",
   "execution_count": 31,
   "metadata": {},
   "outputs": [
    {
     "data": {
      "text/plain": [
       "hdi_cat\n",
       "low index         707.272727\n",
       "medium index     2808.421053\n",
       "high index      16152.786885\n",
       "max. index      54140.000000\n",
       "Name: gni_2015, dtype: float64"
      ]
     },
     "execution_count": 31,
     "metadata": {},
     "output_type": "execute_result"
    }
   ],
   "source": [
    "# Group by the HDI categories created and get the mean for GNI per capita.\n",
    "gni_hdi_means = gni_hdi_2015.groupby('hdi_cat').gni_2015.mean()\n",
    "gni_hdi_means"
   ]
  },
  {
   "cell_type": "code",
   "execution_count": 32,
   "metadata": {},
   "outputs": [
    {
     "data": {
      "text/plain": [
       "Text(0, 0.5, 'Average GNI per capita')"
      ]
     },
     "execution_count": 32,
     "metadata": {},
     "output_type": "execute_result"
    },
    {
     "data": {
      "image/png": "[encoded data removed]",
      "text/plain": [
       "<Figure size 576x576 with 1 Axes>"
      ]
     },
     "metadata": {
      "needs_background": "light"
     },
     "output_type": "display_data"
    }
   ],
   "source": [
    "# 'HDI by GNI per capita in 2015' Bar chart\n",
    "locations = [1,2,3,4]\n",
    "heights = gni_hdi_means\n",
    "labels = gni_hdi_means.index\n",
    "colors = ['#89C7E7']\n",
    "plt.figure(figsize=(8,8))\n",
    "plt.bar(locations, heights, tick_label=labels, color=colors, alpha=.7)\n",
    "plt.title('HDI by GNI per capita in 2015', fontsize=18)\n",
    "plt.xlabel('HDI categories', fontsize=15)\n",
    "plt.ylabel('Average GNI per capita', fontsize=15)"
   ]
  },
  {
   "cell_type": "markdown",
   "metadata": {},
   "source": [
    "There is a positive correlation between HDI and GNI per capita. As the HD index of the countries increases, the GNI per capita also increases in the year 2015.\n"
   ]
  },
  {
   "cell_type": "markdown",
   "metadata": {},
   "source": [
    "#### What is the GNI per capita by continent? Is there a difference in GNI between countries on the same continent? If so, how much difference is there from HDI?"
   ]
  },
  {
   "cell_type": "code",
   "execution_count": 33,
   "metadata": {},
   "outputs": [
    {
     "data": {
      "text/html": [
       "<div>\n",
       "<style scoped>\n",
       "    .dataframe tbody tr th:only-of-type {\n",
       "        vertical-align: middle;\n",
       "    }\n",
       "\n",
       "    .dataframe tbody tr th {\n",
       "        vertical-align: top;\n",
       "    }\n",
       "\n",
       "    .dataframe thead th {\n",
       "        text-align: right;\n",
       "    }\n",
       "</style>\n",
       "<table border=\"1\" class=\"dataframe\">\n",
       "  <thead>\n",
       "    <tr style=\"text-align: right;\">\n",
       "      <th></th>\n",
       "      <th>country</th>\n",
       "      <th>Continent</th>\n",
       "      <th>hdi_2015</th>\n",
       "      <th>gni_2015</th>\n",
       "      <th>hdi_cat</th>\n",
       "    </tr>\n",
       "  </thead>\n",
       "  <tbody>\n",
       "  </tbody>\n",
       "</table>\n",
       "</div>"
      ],
      "text/plain": [
       "Empty DataFrame\n",
       "Columns: [country, Continent, hdi_2015, gni_2015, hdi_cat]\n",
       "Index: []"
      ]
     },
     "execution_count": 33,
     "metadata": {},
     "output_type": "execute_result"
    }
   ],
   "source": [
    "# For countries that are part of more than one continent, e.g. Armenia it is part of EU and Asia,\n",
    "#  we duplicate their information in two rows for each continent.\n",
    "#  We create a new dataframe with these new rows, transcont, for the first question of \n",
    "#  exploratory data analysis.\n",
    "gni_hdi_2015.to_csv('gni_hdi_2015.csv', index=False)\n",
    "transcont = pd.read_csv('gni_hdi_2015.csv')\n",
    "trans = transcont[transcont['Continent'].str.contains('/')]\n",
    "transcont1 = trans.copy()\n",
    "transcont2 = trans.copy()\n",
    "split_column = ['Continent']\n",
    "for c in split_column:\n",
    "    transcont1[c] = transcont1[c].apply(lambda x: x.split(\" / \")[0])\n",
    "    transcont2[c] = transcont2[c].apply(lambda x: x.split(\" / \")[1])\n",
    "new_rows = transcont1.append(transcont2)\n",
    "transcont.drop(trans.index, inplace=True)\n",
    "transcont = transcont.append(new_rows, ignore_index= True)\n",
    "transcont[transcont['Continent'].str.contains(' / ')]"
   ]
  },
  {
   "cell_type": "code",
   "execution_count": 34,
   "metadata": {},
   "outputs": [
    {
     "data": {
      "text/plain": [
       "Continent\n",
       "AF     2344.000000\n",
       "A     11675.000000\n",
       "AS    13292.105263\n",
       "EU    25350.975610\n",
       "OC    50350.000000\n",
       "Name: gni_2015, dtype: float64"
      ]
     },
     "execution_count": 34,
     "metadata": {},
     "output_type": "execute_result"
    }
   ],
   "source": [
    "# The mean GNI per capita by continent in 2015.\n",
    "gni_cont_means = transcont.groupby('Continent').gni_2015.mean()\n",
    "gni_cont_means.nsmallest()"
   ]
  },
  {
   "cell_type": "markdown",
   "metadata": {},
   "source": [
    "The average GNI per capita by continent places Africa with the lowest amount and Europe with the highest amount.\n",
    "We are struck by the fact that Asia has a GNI per capita half greater than America.\n",
    "\n",
    "Let's see how much difference there is between countries with more and less GNI per capita per continent."
   ]
  },
  {
   "cell_type": "code",
   "execution_count": 35,
   "metadata": {},
   "outputs": [
    {
     "data": {
      "text/html": [
       "<div>\n",
       "<style scoped>\n",
       "    .dataframe tbody tr th:only-of-type {\n",
       "        vertical-align: middle;\n",
       "    }\n",
       "\n",
       "    .dataframe tbody tr th {\n",
       "        vertical-align: top;\n",
       "    }\n",
       "\n",
       "    .dataframe thead th {\n",
       "        text-align: right;\n",
       "    }\n",
       "</style>\n",
       "<table border=\"1\" class=\"dataframe\">\n",
       "  <thead>\n",
       "    <tr style=\"text-align: right;\">\n",
       "      <th></th>\n",
       "      <th>country</th>\n",
       "      <th>Continent</th>\n",
       "      <th>hdi_2015</th>\n",
       "      <th>gni_2015</th>\n",
       "      <th>hdi_cat</th>\n",
       "    </tr>\n",
       "  </thead>\n",
       "  <tbody>\n",
       "    <tr>\n",
       "      <td>36</td>\n",
       "      <td>Equatorial Guinea</td>\n",
       "      <td>AF</td>\n",
       "      <td>0.592</td>\n",
       "      <td>10800.0</td>\n",
       "      <td>medium index</td>\n",
       "    </tr>\n",
       "  </tbody>\n",
       "</table>\n",
       "</div>"
      ],
      "text/plain": [
       "              country Continent  hdi_2015  gni_2015       hdi_cat\n",
       "36  Equatorial Guinea        AF     0.592   10800.0  medium index"
      ]
     },
     "execution_count": 35,
     "metadata": {},
     "output_type": "execute_result"
    }
   ],
   "source": [
    "# GNI per capita in Africa and Max. GNI per capita in Africa.\n",
    "gni_AF = transcont.query('Continent == \"AF\"')\n",
    "gni_AF[gni_AF['gni_2015'] == gni_AF['gni_2015'].max()]"
   ]
  },
  {
   "cell_type": "code",
   "execution_count": 36,
   "metadata": {},
   "outputs": [
    {
     "data": {
      "text/html": [
       "<div>\n",
       "<style scoped>\n",
       "    .dataframe tbody tr th:only-of-type {\n",
       "        vertical-align: middle;\n",
       "    }\n",
       "\n",
       "    .dataframe tbody tr th {\n",
       "        vertical-align: top;\n",
       "    }\n",
       "\n",
       "    .dataframe thead th {\n",
       "        text-align: right;\n",
       "    }\n",
       "</style>\n",
       "<table border=\"1\" class=\"dataframe\">\n",
       "  <thead>\n",
       "    <tr style=\"text-align: right;\">\n",
       "      <th></th>\n",
       "      <th>country</th>\n",
       "      <th>Continent</th>\n",
       "      <th>hdi_2015</th>\n",
       "      <th>gni_2015</th>\n",
       "      <th>hdi_cat</th>\n",
       "    </tr>\n",
       "  </thead>\n",
       "  <tbody>\n",
       "    <tr>\n",
       "      <td>18</td>\n",
       "      <td>Burundi</td>\n",
       "      <td>AF</td>\n",
       "      <td>0.404</td>\n",
       "      <td>280.0</td>\n",
       "      <td>low index</td>\n",
       "    </tr>\n",
       "  </tbody>\n",
       "</table>\n",
       "</div>"
      ],
      "text/plain": [
       "    country Continent  hdi_2015  gni_2015    hdi_cat\n",
       "18  Burundi        AF     0.404     280.0  low index"
      ]
     },
     "execution_count": 36,
     "metadata": {},
     "output_type": "execute_result"
    }
   ],
   "source": [
    "# Min GNI per capita in Africa.\n",
    "gni_AF[gni_AF['gni_2015'] == gni_AF['gni_2015'].min()]"
   ]
  },
  {
   "cell_type": "code",
   "execution_count": 37,
   "metadata": {},
   "outputs": [
    {
     "data": {
      "text/html": [
       "<div>\n",
       "<style scoped>\n",
       "    .dataframe tbody tr th:only-of-type {\n",
       "        vertical-align: middle;\n",
       "    }\n",
       "\n",
       "    .dataframe tbody tr th {\n",
       "        vertical-align: top;\n",
       "    }\n",
       "\n",
       "    .dataframe thead th {\n",
       "        text-align: right;\n",
       "    }\n",
       "</style>\n",
       "<table border=\"1\" class=\"dataframe\">\n",
       "  <thead>\n",
       "    <tr style=\"text-align: right;\">\n",
       "      <th></th>\n",
       "      <th>country</th>\n",
       "      <th>Continent</th>\n",
       "      <th>hdi_2015</th>\n",
       "      <th>gni_2015</th>\n",
       "      <th>hdi_cat</th>\n",
       "    </tr>\n",
       "  </thead>\n",
       "  <tbody>\n",
       "    <tr>\n",
       "      <td>88</td>\n",
       "      <td>Norway</td>\n",
       "      <td>EU</td>\n",
       "      <td>0.949</td>\n",
       "      <td>93100.0</td>\n",
       "      <td>max. index</td>\n",
       "    </tr>\n",
       "  </tbody>\n",
       "</table>\n",
       "</div>"
      ],
      "text/plain": [
       "   country Continent  hdi_2015  gni_2015     hdi_cat\n",
       "88  Norway        EU     0.949   93100.0  max. index"
      ]
     },
     "execution_count": 37,
     "metadata": {},
     "output_type": "execute_result"
    }
   ],
   "source": [
    "# GNI per capita in Europe and Max. GNI per capita in Europe.\n",
    "gni_EU = transcont.query('Continent == \"EU\"')\n",
    "gni_EU[gni_EU['gni_2015'] == gni_EU['gni_2015'].max()]"
   ]
  },
  {
   "cell_type": "code",
   "execution_count": 38,
   "metadata": {},
   "outputs": [
    {
     "data": {
      "text/html": [
       "<div>\n",
       "<style scoped>\n",
       "    .dataframe tbody tr th:only-of-type {\n",
       "        vertical-align: middle;\n",
       "    }\n",
       "\n",
       "    .dataframe tbody tr th {\n",
       "        vertical-align: top;\n",
       "    }\n",
       "\n",
       "    .dataframe thead th {\n",
       "        text-align: right;\n",
       "    }\n",
       "</style>\n",
       "<table border=\"1\" class=\"dataframe\">\n",
       "  <thead>\n",
       "    <tr style=\"text-align: right;\">\n",
       "      <th></th>\n",
       "      <th>country</th>\n",
       "      <th>Continent</th>\n",
       "      <th>hdi_2015</th>\n",
       "      <th>gni_2015</th>\n",
       "      <th>hdi_cat</th>\n",
       "    </tr>\n",
       "  </thead>\n",
       "  <tbody>\n",
       "    <tr>\n",
       "      <td>76</td>\n",
       "      <td>Moldova</td>\n",
       "      <td>EU</td>\n",
       "      <td>0.699</td>\n",
       "      <td>2230.0</td>\n",
       "      <td>medium index</td>\n",
       "    </tr>\n",
       "  </tbody>\n",
       "</table>\n",
       "</div>"
      ],
      "text/plain": [
       "    country Continent  hdi_2015  gni_2015       hdi_cat\n",
       "76  Moldova        EU     0.699    2230.0  medium index"
      ]
     },
     "execution_count": 38,
     "metadata": {},
     "output_type": "execute_result"
    }
   ],
   "source": [
    "# Min GNI per capita in Europe.\n",
    "gni_EU[gni_EU['gni_2015'] == gni_EU['gni_2015'].min()]"
   ]
  },
  {
   "cell_type": "code",
   "execution_count": 39,
   "metadata": {},
   "outputs": [
    {
     "data": {
      "text/html": [
       "<div>\n",
       "<style scoped>\n",
       "    .dataframe tbody tr th:only-of-type {\n",
       "        vertical-align: middle;\n",
       "    }\n",
       "\n",
       "    .dataframe tbody tr th {\n",
       "        vertical-align: top;\n",
       "    }\n",
       "\n",
       "    .dataframe thead th {\n",
       "        text-align: right;\n",
       "    }\n",
       "</style>\n",
       "<table border=\"1\" class=\"dataframe\">\n",
       "  <thead>\n",
       "    <tr style=\"text-align: right;\">\n",
       "      <th></th>\n",
       "      <th>country</th>\n",
       "      <th>Continent</th>\n",
       "      <th>hdi_2015</th>\n",
       "      <th>gni_2015</th>\n",
       "      <th>hdi_cat</th>\n",
       "    </tr>\n",
       "  </thead>\n",
       "  <tbody>\n",
       "    <tr>\n",
       "      <td>123</td>\n",
       "      <td>United States</td>\n",
       "      <td>A</td>\n",
       "      <td>0.92</td>\n",
       "      <td>56300.0</td>\n",
       "      <td>max. index</td>\n",
       "    </tr>\n",
       "  </tbody>\n",
       "</table>\n",
       "</div>"
      ],
      "text/plain": [
       "           country Continent  hdi_2015  gni_2015     hdi_cat\n",
       "123  United States         A      0.92   56300.0  max. index"
      ]
     },
     "execution_count": 39,
     "metadata": {},
     "output_type": "execute_result"
    }
   ],
   "source": [
    "# GNI per capita in America and Max. GNI per capita in America.\n",
    "gni_A = transcont.query('Continent == \"A\"')\n",
    "gni_A[gni_A['gni_2015'] == gni_A['gni_2015'].max()]"
   ]
  },
  {
   "cell_type": "code",
   "execution_count": 40,
   "metadata": {},
   "outputs": [
    {
     "data": {
      "text/html": [
       "<div>\n",
       "<style scoped>\n",
       "    .dataframe tbody tr th:only-of-type {\n",
       "        vertical-align: middle;\n",
       "    }\n",
       "\n",
       "    .dataframe tbody tr th {\n",
       "        vertical-align: top;\n",
       "    }\n",
       "\n",
       "    .dataframe thead th {\n",
       "        text-align: right;\n",
       "    }\n",
       "</style>\n",
       "<table border=\"1\" class=\"dataframe\">\n",
       "  <thead>\n",
       "    <tr style=\"text-align: right;\">\n",
       "      <th></th>\n",
       "      <th>country</th>\n",
       "      <th>Continent</th>\n",
       "      <th>hdi_2015</th>\n",
       "      <th>gni_2015</th>\n",
       "      <th>hdi_cat</th>\n",
       "    </tr>\n",
       "  </thead>\n",
       "  <tbody>\n",
       "    <tr>\n",
       "      <td>48</td>\n",
       "      <td>Haiti</td>\n",
       "      <td>A</td>\n",
       "      <td>0.493</td>\n",
       "      <td>810.0</td>\n",
       "      <td>low index</td>\n",
       "    </tr>\n",
       "  </tbody>\n",
       "</table>\n",
       "</div>"
      ],
      "text/plain": [
       "   country Continent  hdi_2015  gni_2015    hdi_cat\n",
       "48   Haiti         A     0.493     810.0  low index"
      ]
     },
     "execution_count": 40,
     "metadata": {},
     "output_type": "execute_result"
    }
   ],
   "source": [
    "# Min GNI per capita in America.\n",
    "gni_A[gni_A['gni_2015'] == gni_A['gni_2015'].min()]"
   ]
  },
  {
   "cell_type": "code",
   "execution_count": 41,
   "metadata": {},
   "outputs": [
    {
     "data": {
      "text/html": [
       "<div>\n",
       "<style scoped>\n",
       "    .dataframe tbody tr th:only-of-type {\n",
       "        vertical-align: middle;\n",
       "    }\n",
       "\n",
       "    .dataframe tbody tr th {\n",
       "        vertical-align: top;\n",
       "    }\n",
       "\n",
       "    .dataframe thead th {\n",
       "        text-align: right;\n",
       "    }\n",
       "</style>\n",
       "<table border=\"1\" class=\"dataframe\">\n",
       "  <thead>\n",
       "    <tr style=\"text-align: right;\">\n",
       "      <th></th>\n",
       "      <th>country</th>\n",
       "      <th>Continent</th>\n",
       "      <th>hdi_2015</th>\n",
       "      <th>gni_2015</th>\n",
       "      <th>hdi_cat</th>\n",
       "    </tr>\n",
       "  </thead>\n",
       "  <tbody>\n",
       "    <tr>\n",
       "      <td>96</td>\n",
       "      <td>Qatar</td>\n",
       "      <td>AS</td>\n",
       "      <td>0.856</td>\n",
       "      <td>75700.0</td>\n",
       "      <td>high index</td>\n",
       "    </tr>\n",
       "  </tbody>\n",
       "</table>\n",
       "</div>"
      ],
      "text/plain": [
       "   country Continent  hdi_2015  gni_2015     hdi_cat\n",
       "96   Qatar        AS     0.856   75700.0  high index"
      ]
     },
     "execution_count": 41,
     "metadata": {},
     "output_type": "execute_result"
    }
   ],
   "source": [
    "# GNI per capita in Asia and Max. GNI per capita in Asia.\n",
    "gni_AS = transcont.query('Continent == \"AS\"')\n",
    "gni_AS[gni_AS['gni_2015'] == gni_AS['gni_2015'].max()]"
   ]
  },
  {
   "cell_type": "code",
   "execution_count": 42,
   "metadata": {},
   "outputs": [
    {
     "data": {
      "text/html": [
       "<div>\n",
       "<style scoped>\n",
       "    .dataframe tbody tr th:only-of-type {\n",
       "        vertical-align: middle;\n",
       "    }\n",
       "\n",
       "    .dataframe tbody tr th {\n",
       "        vertical-align: top;\n",
       "    }\n",
       "\n",
       "    .dataframe thead th {\n",
       "        text-align: right;\n",
       "    }\n",
       "</style>\n",
       "<table border=\"1\" class=\"dataframe\">\n",
       "  <thead>\n",
       "    <tr style=\"text-align: right;\">\n",
       "      <th></th>\n",
       "      <th>country</th>\n",
       "      <th>Continent</th>\n",
       "      <th>hdi_2015</th>\n",
       "      <th>gni_2015</th>\n",
       "      <th>hdi_cat</th>\n",
       "    </tr>\n",
       "  </thead>\n",
       "  <tbody>\n",
       "    <tr>\n",
       "      <td>0</td>\n",
       "      <td>Afghanistan</td>\n",
       "      <td>AS</td>\n",
       "      <td>0.479</td>\n",
       "      <td>600.0</td>\n",
       "      <td>low index</td>\n",
       "    </tr>\n",
       "  </tbody>\n",
       "</table>\n",
       "</div>"
      ],
      "text/plain": [
       "       country Continent  hdi_2015  gni_2015    hdi_cat\n",
       "0  Afghanistan        AS     0.479     600.0  low index"
      ]
     },
     "execution_count": 42,
     "metadata": {},
     "output_type": "execute_result"
    }
   ],
   "source": [
    "# Min GNI per capita in Asia.\n",
    "gni_AS[gni_AS['gni_2015'] == gni_AS['gni_2015'].min()]"
   ]
  },
  {
   "cell_type": "code",
   "execution_count": 43,
   "metadata": {},
   "outputs": [
    {
     "data": {
      "text/html": [
       "<div>\n",
       "<style scoped>\n",
       "    .dataframe tbody tr th:only-of-type {\n",
       "        vertical-align: middle;\n",
       "    }\n",
       "\n",
       "    .dataframe tbody tr th {\n",
       "        vertical-align: top;\n",
       "    }\n",
       "\n",
       "    .dataframe thead th {\n",
       "        text-align: right;\n",
       "    }\n",
       "</style>\n",
       "<table border=\"1\" class=\"dataframe\">\n",
       "  <thead>\n",
       "    <tr style=\"text-align: right;\">\n",
       "      <th></th>\n",
       "      <th>country</th>\n",
       "      <th>Continent</th>\n",
       "      <th>hdi_2015</th>\n",
       "      <th>gni_2015</th>\n",
       "      <th>hdi_cat</th>\n",
       "    </tr>\n",
       "  </thead>\n",
       "  <tbody>\n",
       "    <tr>\n",
       "      <td>5</td>\n",
       "      <td>Australia</td>\n",
       "      <td>OC</td>\n",
       "      <td>0.939</td>\n",
       "      <td>60400.0</td>\n",
       "      <td>max. index</td>\n",
       "    </tr>\n",
       "  </tbody>\n",
       "</table>\n",
       "</div>"
      ],
      "text/plain": [
       "     country Continent  hdi_2015  gni_2015     hdi_cat\n",
       "5  Australia        OC     0.939   60400.0  max. index"
      ]
     },
     "execution_count": 43,
     "metadata": {},
     "output_type": "execute_result"
    }
   ],
   "source": [
    "# GNI per capita in Oeania and Max. GNI per capita in Oceania.\n",
    "gni_OC = transcont.query('Continent == \"OC\"')\n",
    "gni_OC[gni_OC['gni_2015'] == gni_OC['gni_2015'].max()]"
   ]
  },
  {
   "cell_type": "code",
   "execution_count": 44,
   "metadata": {},
   "outputs": [
    {
     "data": {
      "text/html": [
       "<div>\n",
       "<style scoped>\n",
       "    .dataframe tbody tr th:only-of-type {\n",
       "        vertical-align: middle;\n",
       "    }\n",
       "\n",
       "    .dataframe tbody tr th {\n",
       "        vertical-align: top;\n",
       "    }\n",
       "\n",
       "    .dataframe thead th {\n",
       "        text-align: right;\n",
       "    }\n",
       "</style>\n",
       "<table border=\"1\" class=\"dataframe\">\n",
       "  <thead>\n",
       "    <tr style=\"text-align: right;\">\n",
       "      <th></th>\n",
       "      <th>country</th>\n",
       "      <th>Continent</th>\n",
       "      <th>hdi_2015</th>\n",
       "      <th>gni_2015</th>\n",
       "      <th>hdi_cat</th>\n",
       "    </tr>\n",
       "  </thead>\n",
       "  <tbody>\n",
       "    <tr>\n",
       "      <td>84</td>\n",
       "      <td>New Zealand</td>\n",
       "      <td>OC</td>\n",
       "      <td>0.915</td>\n",
       "      <td>40300.0</td>\n",
       "      <td>max. index</td>\n",
       "    </tr>\n",
       "  </tbody>\n",
       "</table>\n",
       "</div>"
      ],
      "text/plain": [
       "        country Continent  hdi_2015  gni_2015     hdi_cat\n",
       "84  New Zealand        OC     0.915   40300.0  max. index"
      ]
     },
     "execution_count": 44,
     "metadata": {},
     "output_type": "execute_result"
    }
   ],
   "source": [
    "# Min GNI per capita in Oceania.\n",
    "gni_OC[gni_OC['gni_2015'] == gni_OC['gni_2015'].min()]"
   ]
  },
  {
   "cell_type": "code",
   "execution_count": 45,
   "metadata": {},
   "outputs": [
    {
     "data": {
      "image/png": "[encoded data removed]",
      "text/plain": [
       "<Figure size 432x288 with 1 Axes>"
      ]
     },
     "metadata": {
      "needs_background": "light"
     },
     "output_type": "display_data"
    }
   ],
   "source": [
    "# 'GNI per capita in 2015 by continent' Box Plot.\n",
    "box = plt.boxplot([gni_AF['gni_2015'], gni_EU['gni_2015'], gni_A['gni_2015'], gni_AS['gni_2015'], gni_OC['gni_2015']], patch_artist=True)\n",
    "plt.xticks([1,2,3,4,5], ['Africa','Europa','America','Asia','Oceania'], fontsize=12)\n",
    "colors = ['#89C7E7','#89C7E7','#89C7E7','#89C7E7','#89C7E7']\n",
    "for patch, color in zip(box['boxes'], colors):\n",
    "    patch.set_facecolor(color)\n",
    "plt.title('GNI per capita in 2015', fontsize=18)\n",
    "plt.show()"
   ]
  },
  {
   "cell_type": "markdown",
   "metadata": {},
   "source": [
    "If we segment by continent, there are large differences in GNI between countries belonging to the same continent in 2015.\n",
    "However, we only observe large differences in the HD index between countries on the same continent in America and Asia.\n",
    "\n",
    "With this we can conclude that in Europe, Africa and Oceania there may be great differences in GNI, but living, health and education standards do not differ too much from each other.\n",
    "Meanwhile, Asia and America have many inequalities of GNI and standards of living, health and education."
   ]
  },
  {
   "cell_type": "markdown",
   "metadata": {},
   "source": [
    "### Do countries with higher Human Development Index have higher Female labour force participation rate (%)?"
   ]
  },
  {
   "cell_type": "code",
   "execution_count": 46,
   "metadata": {},
   "outputs": [],
   "source": [
    "# We are selecting the Female labour force participation rate columns and the HDI columns of 2015.\n",
    "fem_2015 = fem.loc[:, ['country','2015']]\n",
    "hdi_2015 = hdi.loc[:, ['country','Continent','hdi_2015']]\n",
    "fem_2015.rename(columns={'2015': 'fem_2015'}, inplace=True)"
   ]
  },
  {
   "cell_type": "code",
   "execution_count": 47,
   "metadata": {},
   "outputs": [
    {
     "name": "stdout",
     "output_type": "stream",
     "text": [
      "<class 'pandas.core.frame.DataFrame'>\n",
      "RangeIndex: 179 entries, 0 to 178\n",
      "Data columns (total 2 columns):\n",
      "country     179 non-null object\n",
      "fem_2015    179 non-null float64\n",
      "dtypes: float64(1), object(1)\n",
      "memory usage: 2.9+ KB\n"
     ]
    }
   ],
   "source": [
    "# Next, we see how there are no null values.\n",
    "fem_2015.info()"
   ]
  },
  {
   "cell_type": "code",
   "execution_count": 48,
   "metadata": {},
   "outputs": [
    {
     "data": {
      "text/html": [
       "<div>\n",
       "<style scoped>\n",
       "    .dataframe tbody tr th:only-of-type {\n",
       "        vertical-align: middle;\n",
       "    }\n",
       "\n",
       "    .dataframe tbody tr th {\n",
       "        vertical-align: top;\n",
       "    }\n",
       "\n",
       "    .dataframe thead th {\n",
       "        text-align: right;\n",
       "    }\n",
       "</style>\n",
       "<table border=\"1\" class=\"dataframe\">\n",
       "  <thead>\n",
       "    <tr style=\"text-align: right;\">\n",
       "      <th></th>\n",
       "      <th>country</th>\n",
       "      <th>Continent</th>\n",
       "      <th>hdi_2015</th>\n",
       "      <th>fem_2015</th>\n",
       "    </tr>\n",
       "  </thead>\n",
       "  <tbody>\n",
       "    <tr>\n",
       "      <td>0</td>\n",
       "      <td>Afghanistan</td>\n",
       "      <td>AS</td>\n",
       "      <td>0.479</td>\n",
       "      <td>19.5</td>\n",
       "    </tr>\n",
       "    <tr>\n",
       "      <td>1</td>\n",
       "      <td>Albania</td>\n",
       "      <td>EU</td>\n",
       "      <td>0.764</td>\n",
       "      <td>55.7</td>\n",
       "    </tr>\n",
       "    <tr>\n",
       "      <td>2</td>\n",
       "      <td>Algeria</td>\n",
       "      <td>AF</td>\n",
       "      <td>0.745</td>\n",
       "      <td>16.6</td>\n",
       "    </tr>\n",
       "  </tbody>\n",
       "</table>\n",
       "</div>"
      ],
      "text/plain": [
       "       country Continent  hdi_2015  fem_2015\n",
       "0  Afghanistan        AS     0.479      19.5\n",
       "1      Albania        EU     0.764      55.7\n",
       "2      Algeria        AF     0.745      16.6"
      ]
     },
     "execution_count": 48,
     "metadata": {},
     "output_type": "execute_result"
    }
   ],
   "source": [
    "# We merge data in a new dataframe with the Female labour participation and the HDI in 2015.\n",
    "fem_hdi_2015 = hdi_2015.merge(fem_2015, left_on='country', right_on='country', how='inner')\n",
    "fem_hdi_2015.head(3)"
   ]
  },
  {
   "cell_type": "code",
   "execution_count": 49,
   "metadata": {},
   "outputs": [
    {
     "data": {
      "text/plain": [
       "count    179.000000\n",
       "mean      57.559218\n",
       "std       17.292512\n",
       "min        6.400000\n",
       "25%       50.350000\n",
       "50%       60.100000\n",
       "75%       69.500000\n",
       "max       88.000000\n",
       "Name: 2015, dtype: float64"
      ]
     },
     "execution_count": 49,
     "metadata": {},
     "output_type": "execute_result"
    }
   ],
   "source": [
    "# Female labour participation in 2015 information.\n",
    "fem['2015'].describe()"
   ]
  },
  {
   "cell_type": "markdown",
   "metadata": {},
   "source": [
    "In 2015, the female labor force reached an average of 57% worldwide.\n",
    "\n",
    "50% of countries have 60.10% or less working women.\n",
    "\n",
    "75% of countries have 69.5% or less working women.\n",
    "\n",
    "The country with the most working women has 88%."
   ]
  },
  {
   "cell_type": "code",
   "execution_count": 50,
   "metadata": {},
   "outputs": [
    {
     "data": {
      "text/html": [
       "<div>\n",
       "<style scoped>\n",
       "    .dataframe tbody tr th:only-of-type {\n",
       "        vertical-align: middle;\n",
       "    }\n",
       "\n",
       "    .dataframe tbody tr th {\n",
       "        vertical-align: top;\n",
       "    }\n",
       "\n",
       "    .dataframe thead th {\n",
       "        text-align: right;\n",
       "    }\n",
       "</style>\n",
       "<table border=\"1\" class=\"dataframe\">\n",
       "  <thead>\n",
       "    <tr style=\"text-align: right;\">\n",
       "      <th></th>\n",
       "      <th>country</th>\n",
       "      <th>Continent</th>\n",
       "      <th>hdi_2015</th>\n",
       "      <th>fem_2015</th>\n",
       "    </tr>\n",
       "  </thead>\n",
       "  <tbody>\n",
       "    <tr>\n",
       "      <td>95</td>\n",
       "      <td>Norway</td>\n",
       "      <td>EU</td>\n",
       "      <td>0.949</td>\n",
       "      <td>76.0</td>\n",
       "    </tr>\n",
       "  </tbody>\n",
       "</table>\n",
       "</div>"
      ],
      "text/plain": [
       "   country Continent  hdi_2015  fem_2015\n",
       "95  Norway        EU     0.949      76.0"
      ]
     },
     "execution_count": 50,
     "metadata": {},
     "output_type": "execute_result"
    }
   ],
   "source": [
    "# Country with the higher HDI is Norway and has a Female labour participation of 76%.\n",
    "fem_hdi_2015[fem_hdi_2015['hdi_2015'] == fem_hdi_2015['hdi_2015'].max()]"
   ]
  },
  {
   "cell_type": "code",
   "execution_count": 51,
   "metadata": {},
   "outputs": [
    {
     "data": {
      "text/html": [
       "<div>\n",
       "<style scoped>\n",
       "    .dataframe tbody tr th:only-of-type {\n",
       "        vertical-align: middle;\n",
       "    }\n",
       "\n",
       "    .dataframe tbody tr th {\n",
       "        vertical-align: top;\n",
       "    }\n",
       "\n",
       "    .dataframe thead th {\n",
       "        text-align: right;\n",
       "    }\n",
       "</style>\n",
       "<table border=\"1\" class=\"dataframe\">\n",
       "  <thead>\n",
       "    <tr style=\"text-align: right;\">\n",
       "      <th></th>\n",
       "      <th>country</th>\n",
       "      <th>Continent</th>\n",
       "      <th>hdi_2015</th>\n",
       "      <th>fem_2015</th>\n",
       "    </tr>\n",
       "  </thead>\n",
       "  <tbody>\n",
       "    <tr>\n",
       "      <td>106</td>\n",
       "      <td>Rwanda</td>\n",
       "      <td>AF</td>\n",
       "      <td>0.498</td>\n",
       "      <td>88.0</td>\n",
       "    </tr>\n",
       "  </tbody>\n",
       "</table>\n",
       "</div>"
      ],
      "text/plain": [
       "    country Continent  hdi_2015  fem_2015\n",
       "106  Rwanda        AF     0.498      88.0"
      ]
     },
     "execution_count": 51,
     "metadata": {},
     "output_type": "execute_result"
    }
   ],
   "source": [
    "#While Rwanda has the max. Female labour participation percentage and has a low HDI.\n",
    "fem_hdi_2015[fem_hdi_2015['fem_2015'] == fem_hdi_2015['fem_2015'].max()]"
   ]
  },
  {
   "cell_type": "markdown",
   "metadata": {},
   "source": [
    "Norway, with a max. HDI, has only 12% more working women than Rwanda. In Rwanda, 88% of women work."
   ]
  },
  {
   "cell_type": "code",
   "execution_count": 52,
   "metadata": {},
   "outputs": [
    {
     "name": "stdout",
     "output_type": "stream",
     "text": [
      "<class 'pandas.core.frame.DataFrame'>\n",
      "Int64Index: 140 entries, 0 to 139\n",
      "Data columns (total 4 columns):\n",
      "country      140 non-null object\n",
      "Continent    140 non-null object\n",
      "hdi_2015     140 non-null float64\n",
      "fem_2015     140 non-null float64\n",
      "dtypes: float64(2), object(2)\n",
      "memory usage: 5.5+ KB\n"
     ]
    }
   ],
   "source": [
    "# We check there are no null values.\n",
    "fem_hdi_2015.info()"
   ]
  },
  {
   "cell_type": "code",
   "execution_count": 53,
   "metadata": {},
   "outputs": [
    {
     "data": {
      "text/html": [
       "<div>\n",
       "<style scoped>\n",
       "    .dataframe tbody tr th:only-of-type {\n",
       "        vertical-align: middle;\n",
       "    }\n",
       "\n",
       "    .dataframe tbody tr th {\n",
       "        vertical-align: top;\n",
       "    }\n",
       "\n",
       "    .dataframe thead th {\n",
       "        text-align: right;\n",
       "    }\n",
       "</style>\n",
       "<table border=\"1\" class=\"dataframe\">\n",
       "  <thead>\n",
       "    <tr style=\"text-align: right;\">\n",
       "      <th></th>\n",
       "      <th>country</th>\n",
       "      <th>Continent</th>\n",
       "      <th>hdi_2015</th>\n",
       "      <th>fem_2015</th>\n",
       "      <th>fem_categories_2015</th>\n",
       "    </tr>\n",
       "  </thead>\n",
       "  <tbody>\n",
       "    <tr>\n",
       "      <td>0</td>\n",
       "      <td>Afghanistan</td>\n",
       "      <td>AS</td>\n",
       "      <td>0.479</td>\n",
       "      <td>19.5</td>\n",
       "      <td>10-20</td>\n",
       "    </tr>\n",
       "    <tr>\n",
       "      <td>1</td>\n",
       "      <td>Albania</td>\n",
       "      <td>EU</td>\n",
       "      <td>0.764</td>\n",
       "      <td>55.7</td>\n",
       "      <td>50-60</td>\n",
       "    </tr>\n",
       "    <tr>\n",
       "      <td>2</td>\n",
       "      <td>Algeria</td>\n",
       "      <td>AF</td>\n",
       "      <td>0.745</td>\n",
       "      <td>16.6</td>\n",
       "      <td>10-20</td>\n",
       "    </tr>\n",
       "  </tbody>\n",
       "</table>\n",
       "</div>"
      ],
      "text/plain": [
       "       country Continent  hdi_2015  fem_2015 fem_categories_2015\n",
       "0  Afghanistan        AS     0.479      19.5               10-20\n",
       "1      Albania        EU     0.764      55.7               50-60\n",
       "2      Algeria        AF     0.745      16.6               10-20"
      ]
     },
     "execution_count": 53,
     "metadata": {},
     "output_type": "execute_result"
    }
   ],
   "source": [
    "# We are going to create categories for Female labour.\n",
    "# These bins will be used to \"cut\" the Females labour data into categories.\n",
    "bin_edges = [0,10,20,30,40,50,60,70,80,90]\n",
    "bin_names = ['0-10','10-20','20-30','30-40','40-50','50-60','60-70','70-80','80-90']\n",
    "# Now we create the Females labour categories column.\n",
    "fem_hdi_2015['fem_categories_2015'] = pd.cut(fem_hdi_2015['fem_2015'], bin_edges, labels=bin_names)\n",
    "\n",
    "fem_hdi_2015.head(3)"
   ]
  },
  {
   "cell_type": "code",
   "execution_count": 54,
   "metadata": {},
   "outputs": [
    {
     "data": {
      "text/plain": [
       "fem_categories_2015\n",
       "0-10     0.482000\n",
       "10-20    0.655200\n",
       "20-30    0.681625\n",
       "30-40    0.656250\n",
       "40-50    0.668000\n",
       "50-60    0.706947\n",
       "60-70    0.732750\n",
       "70-80    0.756931\n",
       "80-90    0.508750\n",
       "Name: hdi_2015, dtype: float64"
      ]
     },
     "execution_count": 54,
     "metadata": {},
     "output_type": "execute_result"
    }
   ],
   "source": [
    "# We group by Female labour categories and get the HDI mean in 2015.\n",
    "fem_hdi_means = fem_hdi_2015.groupby('fem_categories_2015').hdi_2015.mean()\n",
    "fem_hdi_means"
   ]
  },
  {
   "cell_type": "code",
   "execution_count": 55,
   "metadata": {},
   "outputs": [
    {
     "data": {
      "text/plain": [
       "Text(0, 0.5, 'Average HDI')"
      ]
     },
     "execution_count": 55,
     "metadata": {},
     "output_type": "execute_result"
    },
    {
     "data": {
      "image/png": "[encoded data removed]",
      "text/plain": [
       "<Figure size 576x576 with 1 Axes>"
      ]
     },
     "metadata": {
      "needs_background": "light"
     },
     "output_type": "display_data"
    }
   ],
   "source": [
    "# Avg. HDI by Females workers in 2015 Bar Chart\n",
    "locations = [1,2,3,4,5,6,7,8,9]\n",
    "heights = fem_hdi_means\n",
    "labels = fem_hdi_means.index\n",
    "plt.figure(figsize=(8,8))\n",
    "plt.bar(locations, heights, tick_label=labels, color=colors, alpha=.7)\n",
    "plt.title('Avg. HDI by % of Female workers in 2015', fontsize=18)\n",
    "plt.xlabel('% of Female workers', fontsize=15)\n",
    "plt.ylabel('Average HDI', fontsize=15)"
   ]
  },
  {
   "cell_type": "markdown",
   "metadata": {},
   "source": [
    "As we can see, there is no correlation between Human Development and the percentage of Working Women.\n",
    "However, the second highest percentage of Working Women does coincide with the highest figure for Human Development."
   ]
  },
  {
   "cell_type": "markdown",
   "metadata": {},
   "source": [
    "#### Which continent has more Female labour force participation rate?"
   ]
  },
  {
   "cell_type": "code",
   "execution_count": 56,
   "metadata": {},
   "outputs": [
    {
     "data": {
      "text/html": [
       "<div>\n",
       "<style scoped>\n",
       "    .dataframe tbody tr th:only-of-type {\n",
       "        vertical-align: middle;\n",
       "    }\n",
       "\n",
       "    .dataframe tbody tr th {\n",
       "        vertical-align: top;\n",
       "    }\n",
       "\n",
       "    .dataframe thead th {\n",
       "        text-align: right;\n",
       "    }\n",
       "</style>\n",
       "<table border=\"1\" class=\"dataframe\">\n",
       "  <thead>\n",
       "    <tr style=\"text-align: right;\">\n",
       "      <th></th>\n",
       "      <th>country</th>\n",
       "      <th>Continent</th>\n",
       "      <th>hdi_2015</th>\n",
       "      <th>fem_2015</th>\n",
       "      <th>fem_categories_2015</th>\n",
       "    </tr>\n",
       "  </thead>\n",
       "  <tbody>\n",
       "  </tbody>\n",
       "</table>\n",
       "</div>"
      ],
      "text/plain": [
       "Empty DataFrame\n",
       "Columns: [country, Continent, hdi_2015, fem_2015, fem_categories_2015]\n",
       "Index: []"
      ]
     },
     "execution_count": 56,
     "metadata": {},
     "output_type": "execute_result"
    }
   ],
   "source": [
    "# For countries that are part of more than one continent, e.g. Armenia it is part of EU and Asia,\n",
    "#  we duplicate their information in two rows for each continent.\n",
    "#  We create a new dataframe with these new rows, transcont, for the first question of \n",
    "#  exploratory data analysis.\n",
    "transcont = fem_hdi_2015[fem_hdi_2015['Continent'].str.contains('/')]\n",
    "fem1 = transcont.copy()\n",
    "fem2 = transcont.copy()\n",
    "split_column = ['Continent']\n",
    "for c in split_column:\n",
    "    fem1[c] = fem1[c].apply(lambda x: x.split(\" / \")[0])\n",
    "    fem2[c] = fem2[c].apply(lambda x: x.split(\" / \")[1])\n",
    "new_rows = fem1.append(fem2)\n",
    "fem_hdi_2015.drop(transcont.index, inplace=True)\n",
    "fem_hdi_2015 = fem_hdi_2015.append(new_rows, ignore_index= True)\n",
    "fem_hdi_2015[fem_hdi_2015['Continent'].str.contains(' / ')]"
   ]
  },
  {
   "cell_type": "code",
   "execution_count": 57,
   "metadata": {},
   "outputs": [
    {
     "data": {
      "text/plain": [
       "Text(0, 0.5, 'Percentage of Female Workers')"
      ]
     },
     "execution_count": 57,
     "metadata": {},
     "output_type": "execute_result"
    },
    {
     "data": {
      "image/png": "[encoded data removed]",
      "text/plain": [
       "<Figure size 432x288 with 1 Axes>"
      ]
     },
     "metadata": {
      "needs_background": "light"
     },
     "output_type": "display_data"
    }
   ],
   "source": [
    "# Avg. Females labour rate by continent in 2015\n",
    "fem_by_continent = fem_hdi_2015.groupby('Continent')['fem_2015'].mean()\n",
    "plt.bar([1,2,3,4,5],fem_by_continent, color=colors, alpha=.7, tick_label=['America','Africa','Asia','Europe','Oceania'])\n",
    "plt.title('Avg. Female workers rate by continent in 2015', fontsize=16)\n",
    "plt.xlabel('Continents', fontsize=12)\n",
    "plt.ylabel('Percentage of Female Workers', fontsize=12)"
   ]
  },
  {
   "cell_type": "code",
   "execution_count": 58,
   "metadata": {},
   "outputs": [
    {
     "data": {
      "text/plain": [
       "count     5.000000\n",
       "mean     61.248068\n",
       "std       8.522232\n",
       "min      49.476923\n",
       "25%      57.850000\n",
       "50%      61.353659\n",
       "75%      65.109756\n",
       "max      72.450000\n",
       "Name: fem_2015, dtype: float64"
      ]
     },
     "execution_count": 58,
     "metadata": {},
     "output_type": "execute_result"
    }
   ],
   "source": [
    "# Female workers rate statistics.\n",
    "fem_by_continent.describe()"
   ]
  },
  {
   "cell_type": "code",
   "execution_count": 59,
   "metadata": {},
   "outputs": [
    {
     "data": {
      "text/plain": [
       "Continent\n",
       "A     57.850000\n",
       "AF    61.353659\n",
       "AS    49.476923\n",
       "EU    65.109756\n",
       "OC    72.450000\n",
       "Name: fem_2015, dtype: float64"
      ]
     },
     "execution_count": 59,
     "metadata": {},
     "output_type": "execute_result"
    }
   ],
   "source": [
    "# Avg. Female workers rate by continent in 2015 data.\n",
    "fem_by_continent"
   ]
  },
  {
   "cell_type": "markdown",
   "metadata": {},
   "source": [
    "Africa, America and Europe have a similar Female workers' rate in 2015. \n",
    "Asia has the lowest percentage of working women while Oceania has the highest."
   ]
  },
  {
   "cell_type": "markdown",
   "metadata": {},
   "source": [
    "<a id='conclusions'></a>\n",
    "## Conclusions\n",
    "\n",
    "> There have been many null values in all indicators, especially in the 90s and earlier. For this reason, we have decided to focus our analysis from the 1990s to 2015. \n",
    "We have analyzed our indicators by continents, rather than by countries, to avoid the restrictions of the countries with null values. \n",
    "There are officially 194 countries in the world. For each of our indicators we have had less than 194 samples.\n",
    ">\n",
    ">In the evolution of HDI by continent, we initially had 140 samples. Despite having null values, we use all this data to create a mean grouped by continents.\n",
    ">\n",
    ">**The Human Development Index has grown over the years in all the continents**. \n",
    "Oceania is the best indicator with a mean of 0.8902, followed by Europe, while Africa is the lowest one, with a mean of 0.4627. Africa is the only continent where the Human Development Index has decreased between the 90s and 2015. But, on the other hand, it has also the country with the highest increase, Rwanda.\n",
    "In Africa 75% of the countries have just an index of 0.4928 or less.\n",
    ">\n",
    ">To calculate the increase in HDI between the time intervals of the 1990s and the new century we have to reduce the sample again. Many African countries do not have data in the 1990s.\n",
    "This affects the result. For example, Africa cannot be evaluated correctly because the data obtained is extremely extreme: countries with the largest index declines or one country with the highest global index increases."
   ]
  },
  {
   "cell_type": "markdown",
   "metadata": {},
   "source": [
    ">The second indicator, GNI per capita, only has six countries with no data in 2015. Thus, it will be easier to relate the HDI indicator to it.\n",
    ">\n",
    ">There is a **positive correlation between HDI and Gross National Income (GNI) per capita** so, that income is invested to improve health, education, and other human development outcomes. \n",
    "Globally we have an average HDI of 0.7 and a GNI average of 14,115.44 US dollars in 2015.\n",
    ">\n",
    ">Below we see how this positive correlation also occurs between quartiles:\n",
    "25% of the countries have an HDI equal to or less than 0.5750 and a GNI per capita equal to or less than 1485 US dollars.\n",
    "50% of countries have an HDI equal to or less than 0.7410 and a GNI per capita equal to or less than 5330 US dollars.\n",
    ">\n",
    ">If we segment the average GNI per capita by continent, Europe has the highest GNI, 25350 US dollars, and Africa has the lowest, 11675 US dollars. \n",
    "Asia, with 13292 US dollars, has a GNI half greater than America. If we segment GNI by continent there are large differences between countries belonging to the same continent in 2015, that is, we have outlier countries.\n",
    "Asia and America have countries with high inequalities of GNI and Human Development. However, Europe, Africa and Oceania have big differences in GNI but their respective countries do not differ too much in Human Development."
   ]
  },
  {
   "cell_type": "markdown",
   "metadata": {},
   "source": [
    "> The last indicator is the one with the most samples, 179 (in 2015). Therefore, we can describe much more accurate statistics.\n",
    "The female workforce average is 57% globally and 75% of countries have 69.5% or less working women.\n",
    ">\n",
    ">By relating the Female Labor Force to the Human Development index, our sample is again affected, having to be decreased by the smaller number of HDI data.\n",
    "This relationship shows **no correlation between female workers and HDI**. However, the second highest percentage of Working Women does coincide with the highest figure for Human Development.\n",
    ">\n",
    ">To finish, the average of working women by continent, with 61.2481%, is very similar to the global figure, 57%. There is a similarity of percentages where only Oceania and Asia stand out. Oceania with the highest Female Labour rate and Asia with the lowest."
   ]
  }
 ],
 "metadata": {
  "kernelspec": {
   "display_name": "Python 3",
   "language": "python",
   "name": "python3"
  },
  "language_info": {
   "codemirror_mode": {
    "name": "ipython",
    "version": 3
   },
   "file_extension": ".py",
   "mimetype": "text/x-python",
   "name": "python",
   "nbconvert_exporter": "python",
   "pygments_lexer": "ipython3",
   "version": "3.7.4"
  }
 },
 "nbformat": 4,
 "nbformat_minor": 2
}
